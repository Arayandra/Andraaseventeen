{
  "nbformat": 4,
  "nbformat_minor": 0,
  "metadata": {
    "colab": {
      "provenance": [],
      "authorship_tag": "ABX9TyNtesvCo3U4+sVY09JukPaY",
      "include_colab_link": true
    },
    "kernelspec": {
      "name": "python3",
      "display_name": "Python 3"
    },
    "language_info": {
      "name": "python"
    }
  },
  "cells": [
    {
      "cell_type": "markdown",
      "metadata": {
        "id": "view-in-github",
        "colab_type": "text"
      },
      "source": [
        "<a href=\"https://colab.research.google.com/github/Arayandra/Andraaseventeen/blob/main/Tugas_Latihan_4_DAA.ipynb\" target=\"_parent\"><img src=\"https://colab.research.google.com/assets/colab-badge.svg\" alt=\"Open In Colab\"/></a>"
      ]
    },
    {
      "cell_type": "code",
      "execution_count": 1,
      "metadata": {
        "id": "9rrWCM5eW6Hu",
        "colab": {
          "base_uri": "https://localhost:8080/"
        },
        "outputId": "1cf46870-b5ff-465f-86bf-beb373a5dfd2"
      },
      "outputs": [
        {
          "output_type": "stream",
          "name": "stdout",
          "text": [
            "2 1\n"
          ]
        }
      ],
      "source": [
        "#Swap function\n",
        "var1 = 1\n",
        "var2 = 2\n",
        "var1, var2 = var2, var1\n",
        "\n",
        "print(var1, var2)"
      ]
    },
    {
      "cell_type": "code",
      "source": [
        "var1 = 1\n",
        "var2 = 2\n",
        "var3 = 3\n",
        "var1, var2, var3 = var2, var3, var1\n",
        "\n",
        "print(var1, var2, var3)"
      ],
      "metadata": {
        "colab": {
          "base_uri": "https://localhost:8080/"
        },
        "id": "T6s4LVL0Fd5b",
        "outputId": "4c554b0d-0b55-471b-cb44-5c2380479c96"
      },
      "execution_count": 2,
      "outputs": [
        {
          "output_type": "stream",
          "name": "stdout",
          "text": [
            "2 3 1\n"
          ]
        }
      ]
    },
    {
      "cell_type": "code",
      "source": [
        "list = [25, 21, 22, 24, 23, 27, 26]\n",
        "#Modifikasi sesuai angka favorit anda\n",
        "\n",
        "#Proses penukaran bubble short\n",
        "lastElementIndex = len(list)-1\n",
        "print(0,list)\n",
        "for idx in range(lastElementIndex):\n",
        "                if list[idx]>list[idx+1]:\n",
        "                    list[idx],list[idx+1]=list[idx+1],list[idx]\n",
        "                print(idx+1,list)"
      ],
      "metadata": {
        "colab": {
          "base_uri": "https://localhost:8080/"
        },
        "id": "qqDs9tNYF5FV",
        "outputId": "02f0989d-5ca8-4bdc-b171-8dec21c578f5"
      },
      "execution_count": 3,
      "outputs": [
        {
          "output_type": "stream",
          "name": "stdout",
          "text": [
            "0 [25, 21, 22, 24, 23, 27, 26]\n",
            "1 [21, 25, 22, 24, 23, 27, 26]\n",
            "2 [21, 22, 25, 24, 23, 27, 26]\n",
            "3 [21, 22, 24, 25, 23, 27, 26]\n",
            "4 [21, 22, 24, 23, 25, 27, 26]\n",
            "5 [21, 22, 24, 23, 25, 27, 26]\n",
            "6 [21, 22, 24, 23, 25, 26, 27]\n"
          ]
        }
      ]
    },
    {
      "cell_type": "code",
      "source": [
        "list"
      ],
      "metadata": {
        "colab": {
          "base_uri": "https://localhost:8080/"
        },
        "id": "dfYSF0goK3Ra",
        "outputId": "ef38dc26-046b-442d-dc52-3a10c1845f00"
      },
      "execution_count": 4,
      "outputs": [
        {
          "output_type": "execute_result",
          "data": {
            "text/plain": [
              "[21, 22, 24, 23, 25, 26, 27]"
            ]
          },
          "metadata": {},
          "execution_count": 4
        }
      ]
    },
    {
      "cell_type": "code",
      "source": [
        "def BubbleSort(list):\n",
        "  #bertukar elemen untuk mengatur secara berurutan\n",
        "    lastElementIndex = len(list)-1\n",
        "    for passNo in range(lastElementIndex,0,-1):\n",
        "        for idx in range(passNo):\n",
        "           if list[idx]>list[idx+1]:\n",
        "               list[idx],list[idx+1]=list[idx+1],list[idx]\n",
        "    return list\n"
      ],
      "metadata": {
        "id": "S3No395HHGMe"
      },
      "execution_count": 5,
      "outputs": []
    },
    {
      "cell_type": "code",
      "source": [
        "#Masukkan angka dengan urutan lainnya\n",
        "\n",
        "list = [25, 21, 22, 24, 23, 27, 26]\n",
        "BubbleSort(list)"
      ],
      "metadata": {
        "colab": {
          "base_uri": "https://localhost:8080/"
        },
        "id": "OUNX6jXURr6B",
        "outputId": "96fdf1c1-f2ed-47a5-91b4-7c18c8691515"
      },
      "execution_count": 6,
      "outputs": [
        {
          "output_type": "execute_result",
          "data": {
            "text/plain": [
              "[21, 22, 23, 24, 25, 26, 27]"
            ]
          },
          "metadata": {},
          "execution_count": 6
        }
      ]
    },
    {
      "cell_type": "code",
      "source": [
        "list"
      ],
      "metadata": {
        "colab": {
          "base_uri": "https://localhost:8080/"
        },
        "id": "sNGL0MDB8QfU",
        "outputId": "01267c92-b36f-41c5-a13a-f1eee9e15617"
      },
      "execution_count": 7,
      "outputs": [
        {
          "output_type": "execute_result",
          "data": {
            "text/plain": [
              "[21, 22, 23, 24, 25, 26, 27]"
            ]
          },
          "metadata": {},
          "execution_count": 7
        }
      ]
    },
    {
      "cell_type": "code",
      "source": [
        "Bilangan = [100, 20, 60, 90, 40, 30, 10]\n",
        "\n",
        "def BubbleSort(bilangan):\n",
        "    lastElementIndex = len(bilangan)-1\n",
        "    for passNo in range(lastElementIndex, 0, -1):\n",
        "        for idx in range(passNo):\n",
        "            if bilangan[idx]>bilangan[idx+1]:\n",
        "                bilangan[idx], bilangan[idx+1]=bilangan[idx+1],bilangan[idx]\n",
        "    return bilangan"
      ],
      "metadata": {
        "id": "XBP0RCn-8SjL"
      },
      "execution_count": 8,
      "outputs": []
    },
    {
      "cell_type": "code",
      "source": [
        "bilangan = [10, 30, 40, 20, 60, 100, 90]\n",
        "BubbleSort(bilangan)"
      ],
      "metadata": {
        "colab": {
          "base_uri": "https://localhost:8080/"
        },
        "id": "1tK-xcSZCWsN",
        "outputId": "26889c29-f426-4471-fd60-400262dea0b7"
      },
      "execution_count": 9,
      "outputs": [
        {
          "output_type": "execute_result",
          "data": {
            "text/plain": [
              "[10, 20, 30, 40, 60, 90, 100]"
            ]
          },
          "metadata": {},
          "execution_count": 9
        }
      ]
    },
    {
      "cell_type": "code",
      "source": [
        "bilangan"
      ],
      "metadata": {
        "colab": {
          "base_uri": "https://localhost:8080/"
        },
        "id": "lh05P05UFU9V",
        "outputId": "4ba23b6f-36c4-4430-eda3-60062448f7c1"
      },
      "execution_count": 10,
      "outputs": [
        {
          "output_type": "execute_result",
          "data": {
            "text/plain": [
              "[10, 20, 30, 40, 60, 90, 100]"
            ]
          },
          "metadata": {},
          "execution_count": 10
        }
      ]
    },
    {
      "cell_type": "code",
      "source": [
        "def InsertionSort(list):\n",
        "  for i in range(1, len(list)):\n",
        "      j = i-1\n",
        "      next = list[i]\n",
        "# bandingkan elemen saat ini dengan elemen berikutnya\n",
        "\n",
        "      while (list[j] > next) and (j >= 0):\n",
        "          list[j+1] = list[j]\n",
        "          j=j-1\n",
        "      list[j+1] = next\n",
        "  return list"
      ],
      "metadata": {
        "id": "adhE4E-lFYLg"
      },
      "execution_count": 11,
      "outputs": []
    },
    {
      "cell_type": "code",
      "source": [
        "#Masukkan angka dengan urutan lainnyaa\n",
        "list = [35, 31, 32, 34, 33, 37, 36]"
      ],
      "metadata": {
        "id": "DTIvRw8lLysd"
      },
      "execution_count": 12,
      "outputs": []
    },
    {
      "cell_type": "code",
      "source": [
        "list"
      ],
      "metadata": {
        "colab": {
          "base_uri": "https://localhost:8080/"
        },
        "id": "DmDEE-CJMIbb",
        "outputId": "223686fe-7852-4234-a5ad-0480338244ce"
      },
      "execution_count": 13,
      "outputs": [
        {
          "output_type": "execute_result",
          "data": {
            "text/plain": [
              "[35, 31, 32, 34, 33, 37, 36]"
            ]
          },
          "metadata": {},
          "execution_count": 13
        }
      ]
    },
    {
      "cell_type": "code",
      "source": [
        "InsertionSort(list)"
      ],
      "metadata": {
        "colab": {
          "base_uri": "https://localhost:8080/"
        },
        "id": "ufcob_E4MJz1",
        "outputId": "034d776f-7a0c-4684-f7cc-e654530244ef"
      },
      "execution_count": 14,
      "outputs": [
        {
          "output_type": "execute_result",
          "data": {
            "text/plain": [
              "[31, 32, 33, 34, 35, 36, 37]"
            ]
          },
          "metadata": {},
          "execution_count": 14
        }
      ]
    },
    {
      "cell_type": "code",
      "source": [
        "list = [25, 26, 22, 24, 27, 23, 21]"
      ],
      "metadata": {
        "id": "QRf-xfy8DE6O"
      },
      "execution_count": 15,
      "outputs": []
    },
    {
      "cell_type": "code",
      "source": [
        "InsertionSort(list)\n",
        "print(list)"
      ],
      "metadata": {
        "colab": {
          "base_uri": "https://localhost:8080/"
        },
        "id": "gMkebJciDOpw",
        "outputId": "cd21b919-77d6-485f-c174-5533f2997f8a"
      },
      "execution_count": 16,
      "outputs": [
        {
          "output_type": "stream",
          "name": "stdout",
          "text": [
            "[21, 22, 23, 24, 25, 26, 27]\n"
          ]
        }
      ]
    },
    {
      "cell_type": "code",
      "source": [
        "def InsertionSort(Sort):\n",
        "  for i in range(1, len(Sort)):\n",
        "      j = i-1\n",
        "      next = Sort[i]\n",
        "# bandingkan elemen saat ini dengan elemen berikutnya\n",
        "\n",
        "      while (Sort[j] > next) and (j >= 0):\n",
        "          Sort[j+1] = Sort[j]\n",
        "          j=j-1\n",
        "      Sort[j+1] = next\n",
        "  return Sort"
      ],
      "metadata": {
        "id": "Gad60NWSDm2p"
      },
      "execution_count": 17,
      "outputs": []
    },
    {
      "cell_type": "code",
      "source": [
        "Sort = [89, 12, 57, 16, 25, 11, 75]"
      ],
      "metadata": {
        "id": "VAHtn9xpDaMR"
      },
      "execution_count": 18,
      "outputs": []
    },
    {
      "cell_type": "code",
      "source": [
        "InsertionSort(Sort)\n",
        "print(Sort)"
      ],
      "metadata": {
        "colab": {
          "base_uri": "https://localhost:8080/"
        },
        "id": "veK5sfGkDgXo",
        "outputId": "ea964a13-185c-4619-bf53-1530eac07c0b"
      },
      "execution_count": 19,
      "outputs": [
        {
          "output_type": "stream",
          "name": "stdout",
          "text": [
            "[11, 12, 16, 25, 57, 75, 89]\n"
          ]
        }
      ]
    },
    {
      "cell_type": "code",
      "source": [
        "def SelectionSort(list):\n",
        "    for fill_slot in range(len(list) - 1, 0, -1):\n",
        "        max_index = 0\n",
        "        for location in range(1, fill_slot + 1):\n",
        "            if list[location] > list[max_index]:\n",
        "                max_index = location\n",
        "        list[fill_slot],list[max_index] = list[max_index],list[fill_slot]\n",
        "    return list"
      ],
      "metadata": {
        "id": "UH2lLT4sEEof"
      },
      "execution_count": 20,
      "outputs": []
    },
    {
      "cell_type": "code",
      "source": [
        "#Cara 1\n",
        "list = [70, 15, 25, 19, 34, 44]\n",
        "SelectionSort(list)"
      ],
      "metadata": {
        "colab": {
          "base_uri": "https://localhost:8080/"
        },
        "id": "sDG-CoipHKtU",
        "outputId": "8f559a21-72fc-4b7b-ce75-efc4e07944c5"
      },
      "execution_count": 21,
      "outputs": [
        {
          "output_type": "execute_result",
          "data": {
            "text/plain": [
              "[15, 19, 25, 34, 44, 70]"
            ]
          },
          "metadata": {},
          "execution_count": 21
        }
      ]
    },
    {
      "cell_type": "code",
      "source": [
        "#Cara 2\n",
        "list"
      ],
      "metadata": {
        "colab": {
          "base_uri": "https://localhost:8080/"
        },
        "id": "Bh8t2i8dHVIM",
        "outputId": "480e6b5f-02c0-4f6b-c44b-127a34d8ea5d"
      },
      "execution_count": 22,
      "outputs": [
        {
          "output_type": "execute_result",
          "data": {
            "text/plain": [
              "[15, 19, 25, 34, 44, 70]"
            ]
          },
          "metadata": {},
          "execution_count": 22
        }
      ]
    },
    {
      "cell_type": "code",
      "source": [
        "list = [70, 15, 25, 19, 34, 44]\n",
        "SelectionSort(list)\n",
        "print(list)"
      ],
      "metadata": {
        "colab": {
          "base_uri": "https://localhost:8080/"
        },
        "id": "uZM30HNZHW5E",
        "outputId": "c8c1fed2-e050-4232-c164-2ef144eeef5f"
      },
      "execution_count": 23,
      "outputs": [
        {
          "output_type": "stream",
          "name": "stdout",
          "text": [
            "[15, 19, 25, 34, 44, 70]\n"
          ]
        }
      ]
    },
    {
      "cell_type": "code",
      "source": [
        "def SelectionSort(Pendek):\n",
        "    for fill_slot in range(len(Pendek) - 1, 0, -1):\n",
        "        max_index = 0\n",
        "        for location in range(1, fill_slot + 1):\n",
        "            if Pendek[location] > Pendek[max_index]:\n",
        "                max_index = location\n",
        "        Pendek[fill_slot],Pendek[max_index] = Pendek[max_index],Pendek[fill_slot]\n",
        "    return Pendek"
      ],
      "metadata": {
        "id": "zbzmFMfPHtid"
      },
      "execution_count": 24,
      "outputs": []
    },
    {
      "cell_type": "code",
      "source": [
        "Pendek = [89, 12, 57, 16, 25]\n",
        "SelectionSort(Pendek)\n",
        "print(Pendek)"
      ],
      "metadata": {
        "colab": {
          "base_uri": "https://localhost:8080/"
        },
        "id": "cpfDOwX2JJnw",
        "outputId": "eb47b679-75e0-40c9-ff1e-18394f6d17bd"
      },
      "execution_count": 25,
      "outputs": [
        {
          "output_type": "stream",
          "name": "stdout",
          "text": [
            "[12, 16, 25, 57, 89]\n"
          ]
        }
      ]
    },
    {
      "cell_type": "code",
      "source": [
        "def LinearSearch(list, item):\n",
        "    index = 0\n",
        "    found = False\n",
        "\n",
        "#Match the volume with eaach data element\n",
        "    while index < len(list) and found is False:\n",
        "        if list[index] == item:\n",
        "            found = True\n",
        "        else:\n",
        "            index = index + 1\n",
        "    return found"
      ],
      "metadata": {
        "id": "KLj5ZDhiJdNF"
      },
      "execution_count": 26,
      "outputs": []
    },
    {
      "cell_type": "code",
      "source": [
        "list = [12, 33, 11, 90, 22, 55, 90]\n",
        "print(LinearSearch(list, 12))\n",
        "print(LinearSearch(list, 91))"
      ],
      "metadata": {
        "colab": {
          "base_uri": "https://localhost:8080/"
        },
        "id": "8iN9a_o3NCbj",
        "outputId": "618e5e9b-35aa-499f-c52e-8bcd8ae6d8d3"
      },
      "execution_count": 27,
      "outputs": [
        {
          "output_type": "stream",
          "name": "stdout",
          "text": [
            "True\n",
            "False\n"
          ]
        }
      ]
    },
    {
      "cell_type": "code",
      "source": [
        "list = [\"Sepeda\", \"Motor\", \"Mobil\", \"Truck\", \"Bus\", \"Perahu\"]\n",
        "print(LinearSearch(list, \"Pesawat\"))\n",
        "print(LinearSearch(list, \"Sepeda\"))"
      ],
      "metadata": {
        "colab": {
          "base_uri": "https://localhost:8080/"
        },
        "id": "VwgQZSzSNXb5",
        "outputId": "9f8d0f65-fbbc-413f-fe6f-d639c93bf3cd"
      },
      "execution_count": 28,
      "outputs": [
        {
          "output_type": "stream",
          "name": "stdout",
          "text": [
            "False\n",
            "True\n"
          ]
        }
      ]
    },
    {
      "cell_type": "code",
      "source": [
        "def LinearSearch(huruf, item):\n",
        "    index = 0\n",
        "    found = False\n",
        "\n",
        "#Match the volume with eaach data element\n",
        "    while index < len(huruf) and found is False:\n",
        "        if huruf[index] == item:\n",
        "            found = True\n",
        "        else:\n",
        "            index = index + 1\n",
        "    return found"
      ],
      "metadata": {
        "id": "uAQLT2EsZfxj"
      },
      "execution_count": 29,
      "outputs": []
    },
    {
      "cell_type": "code",
      "source": [
        "huruf = ['y', 'u', 'i', 'w', 'o', 'a', 'q', 'u', 'j', 'p']\n",
        "print(LinearSearch(huruf, 'a'))\n",
        "print(LinearSearch(huruf, 'z'))"
      ],
      "metadata": {
        "colab": {
          "base_uri": "https://localhost:8080/"
        },
        "id": "ewGsQyr9Zq4P",
        "outputId": "39e7272d-6179-4482-936f-aede2547f158"
      },
      "execution_count": 30,
      "outputs": [
        {
          "output_type": "stream",
          "name": "stdout",
          "text": [
            "True\n",
            "False\n"
          ]
        }
      ]
    },
    {
      "cell_type": "code",
      "source": [
        "def BinarySearch(list, item):\n",
        "    first = 0\n",
        "    last = len(list)-1\n",
        "    found = False\n",
        "\n",
        "    while first <= last and not found:\n",
        "        midpoint = (first + last)//2\n",
        "        if list[midpoint] == item:\n",
        "            found = True\n",
        "        else:\n",
        "            if item < list[midpoint]:\n",
        "                last = midpoint-1\n",
        "            else:\n",
        "                first = midpoint+1\n",
        "    return found"
      ],
      "metadata": {
        "id": "AgOAGP1lUzSG"
      },
      "execution_count": 31,
      "outputs": []
    },
    {
      "cell_type": "code",
      "source": [
        "list = [12, 33, 11, 99, 22, 55, 90]\n",
        "sorted_list = BubbleSort(list)\n",
        "print(BinarySearch(list, 12))\n",
        "print(BinarySearch(list, 91))"
      ],
      "metadata": {
        "colab": {
          "base_uri": "https://localhost:8080/"
        },
        "id": "hf9Id_WxW9hS",
        "outputId": "81aab5f5-e260-43b3-c80a-bcb7fcaa7ac7"
      },
      "execution_count": 32,
      "outputs": [
        {
          "output_type": "stream",
          "name": "stdout",
          "text": [
            "True\n",
            "False\n"
          ]
        }
      ]
    },
    {
      "cell_type": "code",
      "source": [
        "list = ['y', 'u', 'i', 'w', 'o', 'a', 'q', 'u', 'j', 'p']\n",
        "sorted_list = BubbleSort(list)\n",
        "print(BinarySearch(list, 'b'))\n",
        "print(BinarySearch(list, 'a'))"
      ],
      "metadata": {
        "colab": {
          "base_uri": "https://localhost:8080/"
        },
        "id": "dgioRi_ZXN0h",
        "outputId": "35b2c150-1558-4323-f476-cde953125b9c"
      },
      "execution_count": 33,
      "outputs": [
        {
          "output_type": "stream",
          "name": "stdout",
          "text": [
            "False\n",
            "True\n"
          ]
        }
      ]
    },
    {
      "cell_type": "code",
      "source": [
        "def IntPolsearch(list, x):\n",
        "    idx0 = 0\n",
        "    idxn = (len(list) - 1)\n",
        "    found = False\n",
        "    while idx0 <= idxn and x >= list[idx0] and x <= list[idxn]:\n",
        "\n",
        "#Find the mid point\n",
        "      mid = idx0 +int(((float(idxn - idx0)/( list[idxn] - list[idx0])) * ( x - list[idx0])))\n",
        "\n",
        "#Compare the value at mid point with search value\n",
        "      if list[mid] == x:\n",
        "          found = True\n",
        "          return found\n",
        "\n",
        "      if list[mid] < x:\n",
        "          idx0 = mid + 1\n",
        "    return found"
      ],
      "metadata": {
        "id": "ovoA6gn2XlNT"
      },
      "execution_count": 34,
      "outputs": []
    },
    {
      "cell_type": "code",
      "source": [
        "list = [12, 33, 11, 99, 22, 55, 90]\n",
        "sorted_list = BubbleSort(list)\n",
        "print(IntPolsearch(list, 12))\n",
        "print(IntPolsearch(list, 91))"
      ],
      "metadata": {
        "colab": {
          "base_uri": "https://localhost:8080/"
        },
        "id": "WDitHAUQaJOw",
        "outputId": "84820251-9609-47ed-c0b6-94402572a42d"
      },
      "execution_count": 35,
      "outputs": [
        {
          "output_type": "stream",
          "name": "stdout",
          "text": [
            "True\n",
            "False\n"
          ]
        }
      ]
    },
    {
      "cell_type": "code",
      "source": [
        "def IntPolSearch(list, x):\n",
        "  idx0 = 0\n",
        "  idxn = (len(list) - 1)\n",
        "  found = False\n",
        "\n",
        "  while idx0 <= idxn and x >= list[idx0] and x <= list[idxn]:\n",
        "    mid = idx0 + int(((float(idxn - idx0) / (list[idxn] - list[idx0])) * (x - list[idx0])))\n",
        "\n",
        "    if list[mid] == x:\n",
        "      found = True\n",
        "      return found\n",
        "\n",
        "    if list[mid] < x:\n",
        "      idx0 = mid + 1\n",
        "\n",
        "  return found\n",
        "\n",
        "print(IntPolSearch(BubbleSort(list), 12))\n",
        "print(IntPolSearch(BubbleSort(list), 9))"
      ],
      "metadata": {
        "colab": {
          "base_uri": "https://localhost:8080/"
        },
        "id": "3bfX8CBsV1fA",
        "outputId": "685d73c2-9cb1-4659-8684-9705ba7a60b8"
      },
      "execution_count": 36,
      "outputs": [
        {
          "output_type": "stream",
          "name": "stdout",
          "text": [
            "True\n",
            "False\n"
          ]
        }
      ]
    },
    {
      "cell_type": "code",
      "source": [
        "# Latihan Interpolation Search\n",
        "def latihanIntPolSearch(myList, x):\n",
        "  idx0 = 0\n",
        "  idxn = (len(myList) - 1)\n",
        "  found = False\n",
        "  while idx0 <= idxn and x >= myList[idx0] and x <= myList[idxn]:\n",
        "\n",
        "    mid = idx0 + int(((float(idxn - idx0) / (myList[idxn] - myList[idx0])) * (x - myList[idx0])))\n",
        "\n",
        "    if myList[mid] == x:\n",
        "      found = True\n",
        "      return found\n",
        "\n",
        "    if list[mid] < x:\n",
        "      idx0 = mid + 1\n",
        "  return found\n",
        "\n",
        "latihanIntPol = ['y', 'u', 'i', 'w', 'o', 'a', 'q', 'u', 'j', 'p',]\n",
        "print(latihanIntPolSearch(latihanIntPol, 'u'))"
      ],
      "metadata": {
        "colab": {
          "base_uri": "https://localhost:8080/"
        },
        "id": "oB7JXf0qbHld",
        "outputId": "ac7cd15d-b5da-4669-ba69-cc3dc3b340ed"
      },
      "execution_count": 38,
      "outputs": [
        {
          "output_type": "stream",
          "name": "stdout",
          "text": [
            "False\n"
          ]
        }
      ]
    }
  ]
}