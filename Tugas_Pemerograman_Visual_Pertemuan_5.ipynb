{
  "nbformat": 4,
  "nbformat_minor": 0,
  "metadata": {
    "colab": {
      "provenance": [],
      "authorship_tag": "ABX9TyOUUSxttAPCu2U2ioQmO71h",
      "include_colab_link": true
    },
    "kernelspec": {
      "name": "python3",
      "display_name": "Python 3"
    },
    "language_info": {
      "name": "python"
    }
  },
  "cells": [
    {
      "cell_type": "markdown",
      "metadata": {
        "id": "view-in-github",
        "colab_type": "text"
      },
      "source": [
        "<a href=\"https://colab.research.google.com/github/Arayandra/Andraaseventeen/blob/Pemrograman-Visual/Tugas_Pemerograman_Visual_Pertemuan_5.ipynb\" target=\"_parent\"><img src=\"https://colab.research.google.com/assets/colab-badge.svg\" alt=\"Open In Colab\"/></a>"
      ]
    },
    {
      "cell_type": "code",
      "execution_count": null,
      "metadata": {
        "colab": {
          "base_uri": "https://localhost:8080/"
        },
        "id": "oNjHwq-K7Q7t",
        "outputId": "e5bc111e-b0f7-470e-e4fa-09e679d57cc0"
      },
      "outputs": [
        {
          "output_type": "stream",
          "name": "stdout",
          "text": [
            "Tipe data Set_1 adalah <class 'set'>\n",
            "Tipe data Set_2 adalah <class 'set'>\n",
            "--------------------------------------------\n",
            "Toyota\n",
            "Daihatsu\n",
            "Honda\n",
            "--------------------------------------------\n",
            "3\n",
            "Yes, Daihatsu is an item in Set_1.\n",
            "{'Mitsubishi', 'Toyota', 'Daihatsu', 'Honda'}\n",
            "{'Suzuki', 'Toyota', 'Honda', 'Nissan', 'Mazda', 'Mitsubishi', 'Daihatsu'}\n",
            "{'Suzuki', 'Toyota', 'Nissan', 'Mazda', 'Mitsubishi', 'Daihatsu'}\n",
            "{'Suzuki', 'Toyota', 'Nissan', 'Mitsubishi', 'Daihatsu'}\n",
            "{'Toyota', 'Nissan', 'Mitsubishi', 'Daihatsu'}\n",
            "set()\n",
            "-----------------------------------------------\n",
            "{1, 'c', 2, 3, 'a', 'b'}\n",
            "------------------------------------------------\n",
            "{1, 'c', 2, 3, 'a', 'b'}\n"
          ]
        }
      ],
      "source": [
        "#PART 1\n",
        "#Constructing a Set (there are two methods)\n",
        "Set_1 = {\"Toyota\", \"Daihatsu\", \"Honda\"}\n",
        "Set_2 = set(((\"Toyota\", \"Daihatsu\", \"Honda\")))\n",
        "\n",
        "print(\"Tipe data Set_1 adalah\", type(Set_1))\n",
        "print(\"Tipe data Set_2 adalah\", type(Set_2))\n",
        "print(\"--------------------------------------------\")\n",
        "\n",
        "#Print every item of Set_1\n",
        "for x in Set_1:\n",
        "  print(x)\n",
        "print(\"--------------------------------------------\")\n",
        "\n",
        "#Check the length of the set\n",
        "print(len(Set_1))\n",
        "\n",
        "#Check if a key exist\n",
        "if \"Daihatsu\" in Set_1:\n",
        "  print(\"Yes, Daihatsu is an item in Set_1.\")\n",
        "\n",
        "#Add an item\n",
        "Set_1.add(\"Mitsubishi\")\n",
        "print(Set_1)\n",
        "\n",
        "#Add multiple items\n",
        "Set_1.update([\"Suzuki\", \"Mazda\", \"Nissan\"])\n",
        "print(Set_1)\n",
        "\n",
        "#PART 2\n",
        "#Remove an item (method1)\n",
        "Set_1.remove(\"Honda\")\n",
        "print(Set_1)\n",
        "\n",
        "#Remove an item (method2)\n",
        "Set_1.discard(\"Mazda\")\n",
        "print(Set_1)\n",
        "\n",
        "#Delete (pop) the last inserted key\n",
        "Set_1.pop()\n",
        "print(Set_1)\n",
        "\n",
        "#Clear the set\n",
        "Set_1.clear()\n",
        "print(Set_1)\n",
        "\n",
        "#Delete the  set\n",
        "del Set_1\n",
        "print(\"-----------------------------------------------\")\n",
        "\n",
        "#Union of two sets\n",
        "set1 = {\"a\", \"b\", \"c\"}\n",
        "set2 = {1, 2, 3}\n",
        "set3 = set1.union(set2)\n",
        "print(set3)\n",
        "print(\"------------------------------------------------\")\n",
        "#Set 1 takes copies of all items of set 2\n",
        "set1 = {\"a\", \"b\", \"c\"}\n",
        "set2 = {1, 2, 3}\n",
        "set1.update(set2)\n",
        "print(set1)"
      ]
    },
    {
      "cell_type": "code",
      "source": [
        "#Case 1\n",
        "print(\"Case 1\")\n",
        "# Declaring Boolean values (Standard way)\n",
        "f = bool(True)\n",
        "g = bool(False)\n",
        "print(f)\n",
        "print(g)\n",
        "print(\"=============================================================\")\n",
        "\n",
        "# Case 2\n",
        "print(\"Case 2\")\n",
        "# Boolean values in different contexts\n",
        "# Automatically tracked by the computer without declaration\n",
        "print(3 > 2)\n",
        "print(3 + 2 == 5)\n",
        "print(3 < 2)\n",
        "print(\"=============================================================\")\n",
        "\n",
        "# Case 3\n",
        "print(\"Case 3\")\n",
        "Penghasilan = 20000000\n",
        "penghasilan_tanpa_pajak = 4000000\n",
        "if penghasilan_tanpa_pajak >= Penghasilan:\n",
        "    pajak_yang_harus_dibayar = 0\n",
        "if Penghasilan > penghasilan_tanpa_pajak:\n",
        "    pajak_yang_harus_dibayar = 0.1 * Penghasilan\n",
        "\n",
        "print(\"Pajak yang harus Anda bayar: Rp \", pajak_yang_harus_dibayar)\n",
        "\n",
        "print(\"Case 4\")\n",
        "# Semua data yang tidak nol (kosong) memiliki nilai Boolean True\n",
        "\n",
        "a = 3\n",
        "b = \"Ini data string.\"\n",
        "c = \"laptop\", \"buku\", \"ballpen\"  # tuple\n",
        "d = [\"laptop\", \"buku\", \"ballpen\"]  # list\n",
        "e = {\"Laptop\": \"asus\", \"buku\": \"buku_teks\", \"ballpen\": \"arrow\"}  # dictionary\n",
        "f = {1, 2, 3, 4, 5}  # set\n",
        "print(bool(a))\n",
        "print(bool(b))\n",
        "print(bool(c))\n",
        "print(bool(d))\n",
        "print(bool(e))\n",
        "print(bool(f))\n",
        "print(\"=============================================================\")\n",
        "\n",
        "# PART 3\n",
        "# Case 5: Variables that are empty have a Boolean value of False\n",
        "print(\"Case 5\")\n",
        "\n",
        "a = 0\n",
        "b = \"\"\n",
        "c = ()\n",
        "d = []\n",
        "e = {}\n",
        "print(bool(a))\n",
        "print(bool(b))\n",
        "print(bool(c))\n",
        "print(bool(d))\n",
        "print(bool(e))\n",
        "print(\"=============================================================\")\n",
        "\n",
        "# Case 6: Variables with a length of zero have a Boolean value of False\n",
        "print(\"Case 6\")\n",
        "\n",
        "class MyClass:\n",
        "    def _len_(self):\n",
        "        return 0\n",
        "\n",
        "print(bool(MyClass()))\n",
        "print(\"=============================================================\")"
      ],
      "metadata": {
        "colab": {
          "base_uri": "https://localhost:8080/"
        },
        "id": "IdSxl0L69Xvg",
        "outputId": "829981e7-7d17-462a-8e1f-e8ebc42f2873"
      },
      "execution_count": null,
      "outputs": [
        {
          "output_type": "stream",
          "name": "stdout",
          "text": [
            "Case 1\n",
            "True\n",
            "False\n",
            "=============================================================\n",
            "Case 2\n",
            "True\n",
            "True\n",
            "False\n",
            "=============================================================\n",
            "Case 3\n",
            "Pajak yang harus Anda bayar: Rp  2000000.0\n",
            "Case 4\n",
            "True\n",
            "True\n",
            "True\n",
            "True\n",
            "True\n",
            "True\n",
            "=============================================================\n",
            "Case 5\n",
            "False\n",
            "False\n",
            "False\n",
            "False\n",
            "False\n",
            "=============================================================\n",
            "Case 6\n",
            "True\n",
            "=============================================================\n"
          ]
        }
      ]
    },
    {
      "cell_type": "code",
      "source": [
        "# Contoh Soal\n",
        "# Inisialisasi set kosong\n",
        "numbers = set()\n",
        "\n",
        "# Meminta pengguna untuk memasukkan angka, \"selesai\" untuk keluar\n",
        "while True:\n",
        "    num_input = input(\"Masukkan angka (selesai untuk mengakhiri): \")\n",
        "\n",
        "    # Keluar dari loop jika pengguna memasukkan \"selesai\"\n",
        "    if num_input.lower() == \"selesai\":\n",
        "        break\n",
        "\n",
        "    try:\n",
        "        num = int(num_input)\n",
        "        numbers.add(num)  # Menambahkan angka ke set\n",
        "    except ValueError:\n",
        "        print(\"Masukan tidak valid. Harap masukkan angka.\")\n",
        "\n",
        "# Mencetak jumlah angka unik yang dimasukkan\n",
        "print(\"Jumlah angka unik yang dimasukkan:\", len(numbers))"
      ],
      "metadata": {
        "colab": {
          "base_uri": "https://localhost:8080/"
        },
        "id": "SpBuMoIg_CMB",
        "outputId": "f343b9c5-87ae-443c-ebb2-b883075d9b66"
      },
      "execution_count": null,
      "outputs": [
        {
          "output_type": "stream",
          "name": "stdout",
          "text": [
            "Masukkan angka (selesai untuk mengakhiri): 1\n",
            "Masukkan angka (selesai untuk mengakhiri): 2\n",
            "Masukkan angka (selesai untuk mengakhiri): 5\n",
            "Masukkan angka (selesai untuk mengakhiri): selesai\n",
            "Jumlah angka unik yang dimasukkan: 3\n"
          ]
        }
      ]
    },
    {
      "cell_type": "code",
      "source": [
        "# Program untuk mengecek apakah seorang pengguna memiliki akses ke suatu fitur\n",
        "\n",
        "# Fungsi untuk memeriksa izin akses pengguna\n",
        "def check_access(username):\n",
        "    # Simulasi database pengguna yang memiliki akses\n",
        "    allowed_users = ['user1', 'user2', 'user3']\n",
        "\n",
        "    # Mengecek apakah pengguna memiliki akses\n",
        "    if username in allowed_users:\n",
        "        return True\n",
        "    else:\n",
        "        return False\n",
        "\n",
        "# Main program\n",
        "def main():\n",
        "    # Mengambil input dari pengguna\n",
        "    username = input(\"Masukkan nama pengguna: \")\n",
        "\n",
        "    # Memeriksa izin akses pengguna\n",
        "    has_access = check_access(username)\n",
        "\n",
        "    # Menampilkan hasil\n",
        "    if has_access:\n",
        "        print(\"Anda memiliki akses ke fitur tersebut.\")\n",
        "    else:\n",
        "        print(\"Anda tidak memiliki akses ke fitur tersebut.\")\n",
        "\n",
        "main()"
      ],
      "metadata": {
        "id": "qVnSKKMkGxjq",
        "colab": {
          "base_uri": "https://localhost:8080/"
        },
        "outputId": "da637894-17ac-41e9-cd73-ec48e978f010"
      },
      "execution_count": 18,
      "outputs": [
        {
          "output_type": "stream",
          "name": "stdout",
          "text": [
            "Masukkan nama pengguna: user1\n",
            "Anda memiliki akses ke fitur tersebut.\n"
          ]
        }
      ]
    }
  ]
}