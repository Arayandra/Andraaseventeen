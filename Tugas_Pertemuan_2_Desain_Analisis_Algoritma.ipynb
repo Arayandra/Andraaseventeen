{
  "nbformat": 4,
  "nbformat_minor": 0,
  "metadata": {
    "colab": {
      "provenance": [],
      "authorship_tag": "ABX9TyNRl1qtMpituAT8Evz+a5U9",
      "include_colab_link": true
    },
    "kernelspec": {
      "name": "python3",
      "display_name": "Python 3"
    },
    "language_info": {
      "name": "python"
    }
  },
  "cells": [
    {
      "cell_type": "markdown",
      "metadata": {
        "id": "view-in-github",
        "colab_type": "text"
      },
      "source": [
        "<a href=\"https://colab.research.google.com/github/Arayandra/Andraaseventeen/blob/main/Tugas_Pertemuan_2_Desain_Analisis_Algoritma.ipynb\" target=\"_parent\"><img src=\"https://colab.research.google.com/assets/colab-badge.svg\" alt=\"Open In Colab\"/></a>"
      ]
    },
    {
      "cell_type": "code",
      "execution_count": 2,
      "metadata": {
        "colab": {
          "base_uri": "https://localhost:8080/"
        },
        "id": "gpevo2AMIwmz",
        "outputId": "0413ef5c-6b98-4094-d5d8-ba48e3db0464"
      },
      "outputs": [
        {
          "output_type": "stream",
          "name": "stdout",
          "text": [
            "[1, 2, 3, 4, 5, 6]\n"
          ]
        }
      ],
      "source": [
        "import numpy as np\n",
        "\n",
        "#terdapat list A dan B\n",
        "a = [1, 2, 3]\n",
        "b = [4, 5, 6]\n",
        "\n",
        "#Jumlahkan\n",
        "hasil = a + b\n",
        "\n",
        "print(hasil)"
      ]
    },
    {
      "cell_type": "code",
      "source": [
        "import numpy as np\n",
        "\n",
        "#membuat array\n",
        "nilai_siswa = np.array([85, 55, 40, 90])\n",
        "\n",
        "#mengakses data pada array\n",
        "print(nilai_siswa[0])"
      ],
      "metadata": {
        "colab": {
          "base_uri": "https://localhost:8080/"
        },
        "id": "XI1CClSgL-2r",
        "outputId": "bed74a73-0738-4bbc-b7b4-43f785fcdcf2"
      },
      "execution_count": 11,
      "outputs": [
        {
          "output_type": "stream",
          "name": "stdout",
          "text": [
            "85\n"
          ]
        }
      ]
    },
    {
      "cell_type": "code",
      "source": [
        "import numpy as np\n",
        "\n",
        "#terdapat list A dan B\n",
        "a = [1, 2, 3]\n",
        "b = [4, 5, 6]\n",
        "\n",
        "def add(list_a, list_b):\n",
        "  result = []\n",
        "  for first, second in zip(list_a, list_b):\n",
        "    result.append(first + second)\n",
        "  return result\n",
        "\n",
        "add(a, b)"
      ],
      "metadata": {
        "colab": {
          "base_uri": "https://localhost:8080/"
        },
        "id": "wylqfa7sMh1P",
        "outputId": "cb544826-2a71-4082-ad7b-77bb4226c612"
      },
      "execution_count": 9,
      "outputs": [
        {
          "output_type": "execute_result",
          "data": {
            "text/plain": [
              "[5, 7, 9]"
            ]
          },
          "metadata": {},
          "execution_count": 9
        }
      ]
    },
    {
      "cell_type": "code",
      "source": [
        "import numpy as np\n",
        "\n",
        "print(np.__version__)"
      ],
      "metadata": {
        "colab": {
          "base_uri": "https://localhost:8080/"
        },
        "id": "yWTwJE9dOhDR",
        "outputId": "a3679f26-68c8-43cb-94aa-d62e0d303ce6"
      },
      "execution_count": 12,
      "outputs": [
        {
          "output_type": "stream",
          "name": "stdout",
          "text": [
            "1.23.5\n"
          ]
        }
      ]
    },
    {
      "cell_type": "markdown",
      "source": [
        "# hello world\n",
        "## hello world\n",
        "### hello world\n",
        "#### hello world\n",
        "##### hello world"
      ],
      "metadata": {
        "id": "NhaXGOpdPm2f"
      }
    },
    {
      "cell_type": "code",
      "source": [
        "print(\"Hello, World!\")\n",
        "print(\"Nama saya (Advani Rayandra Kahfi)\")\n",
        "print(\"Nim saya (2022071007)\")"
      ],
      "metadata": {
        "colab": {
          "base_uri": "https://localhost:8080/"
        },
        "id": "Fw027ic4Q9aq",
        "outputId": "6eaaac9b-7630-4ad7-da9b-0dfba9a6f34d"
      },
      "execution_count": 15,
      "outputs": [
        {
          "output_type": "stream",
          "name": "stdout",
          "text": [
            "Hello, World!\n",
            "Nama saya (Advani Rayandra Kahfi)\n",
            "Nim saya (2022071007)\n"
          ]
        }
      ]
    },
    {
      "cell_type": "code",
      "source": [
        "if 5>2:\n",
        "  print(\"Five is greater than two!\")"
      ],
      "metadata": {
        "colab": {
          "base_uri": "https://localhost:8080/"
        },
        "id": "xgRa6NyLSozZ",
        "outputId": "d94b84a4-29c6-4151-cc13-d6ab963aebb3"
      },
      "execution_count": 19,
      "outputs": [
        {
          "output_type": "stream",
          "name": "stdout",
          "text": [
            "Five is greater than two!\n"
          ]
        }
      ]
    },
    {
      "cell_type": "code",
      "source": [
        "x = 5\n",
        "y = \"john\"\n",
        "print(x)\n",
        "print(y)"
      ],
      "metadata": {
        "colab": {
          "base_uri": "https://localhost:8080/"
        },
        "id": "KTfeQjiATAJh",
        "outputId": "8f76909b-7937-40ec-bc5e-5fef8376f413"
      },
      "execution_count": 20,
      "outputs": [
        {
          "output_type": "stream",
          "name": "stdout",
          "text": [
            "5\n",
            "john\n"
          ]
        }
      ]
    },
    {
      "cell_type": "code",
      "source": [
        "x = 4\n",
        "x = \"Sally\"\n",
        "print(x)"
      ],
      "metadata": {
        "colab": {
          "base_uri": "https://localhost:8080/"
        },
        "id": "_WKU9qqSTpW2",
        "outputId": "97b7b842-469a-4421-da09-f07b253def54"
      },
      "execution_count": 21,
      "outputs": [
        {
          "output_type": "stream",
          "name": "stdout",
          "text": [
            "Sally\n"
          ]
        }
      ]
    },
    {
      "cell_type": "code",
      "source": [
        "def getfirst(myList):\n",
        "    return myList[0]\n",
        "\n",
        "getfirst([1,2,3,])"
      ],
      "metadata": {
        "colab": {
          "base_uri": "https://localhost:8080/"
        },
        "id": "g97o6IcMUVHT",
        "outputId": "4e5f876e-e664-43b4-c31c-7915e25799f8"
      },
      "execution_count": 25,
      "outputs": [
        {
          "output_type": "execute_result",
          "data": {
            "text/plain": [
              "1"
            ]
          },
          "metadata": {},
          "execution_count": 25
        }
      ]
    },
    {
      "cell_type": "code",
      "source": [
        "def getfirst(myList):\n",
        "    return myList[2-1]\n",
        "\n",
        "getfirst([1,2,3,])"
      ],
      "metadata": {
        "colab": {
          "base_uri": "https://localhost:8080/"
        },
        "id": "GGUFZcaZYKqj",
        "outputId": "60b5d4b8-0d17-4a30-aa1a-0d3edd1071b6"
      },
      "execution_count": 35,
      "outputs": [
        {
          "output_type": "execute_result",
          "data": {
            "text/plain": [
              "2"
            ]
          },
          "metadata": {},
          "execution_count": 35
        }
      ]
    },
    {
      "cell_type": "code",
      "source": [
        "def getfirst(myList):\n",
        "    return myList[5-2]\n",
        "\n",
        "getfirst([1,2,3,4,5])"
      ],
      "metadata": {
        "colab": {
          "base_uri": "https://localhost:8080/"
        },
        "id": "0sorZH9PYZEP",
        "outputId": "35866752-e4d1-4848-c4d7-a958619ccb01"
      },
      "execution_count": 36,
      "outputs": [
        {
          "output_type": "execute_result",
          "data": {
            "text/plain": [
              "4"
            ]
          },
          "metadata": {},
          "execution_count": 36
        }
      ]
    },
    {
      "cell_type": "code",
      "source": [
        "getfirst([1,2,3,4,5,6,7,8,9])"
      ],
      "metadata": {
        "colab": {
          "base_uri": "https://localhost:8080/"
        },
        "id": "qQVGV94vVXyw",
        "outputId": "f405e9bf-e25a-4e94-e2bd-3c3e74c2be9a"
      },
      "execution_count": 26,
      "outputs": [
        {
          "output_type": "execute_result",
          "data": {
            "text/plain": [
              "1"
            ]
          },
          "metadata": {},
          "execution_count": 26
        }
      ]
    },
    {
      "cell_type": "code",
      "source": [
        "def getsecond(myList):\n",
        "    return myList[1]\n",
        "\n",
        "getsecond([1,2,3])"
      ],
      "metadata": {
        "colab": {
          "base_uri": "https://localhost:8080/"
        },
        "id": "JBKWJDRTV4Ht",
        "outputId": "943a4fa5-696b-4e2d-c750-cfd374433e5c"
      },
      "execution_count": 30,
      "outputs": [
        {
          "output_type": "execute_result",
          "data": {
            "text/plain": [
              "2"
            ]
          },
          "metadata": {},
          "execution_count": 30
        }
      ]
    },
    {
      "cell_type": "code",
      "source": [
        "def getLast(myList):\n",
        "    return myList[-1]\n",
        "\n",
        "getLast([1,2,3,4,5,6,7,8,9])"
      ],
      "metadata": {
        "colab": {
          "base_uri": "https://localhost:8080/"
        },
        "id": "Yw2RFcUxWuqD",
        "outputId": "763d99c3-1786-498f-c941-350e79deb090"
      },
      "execution_count": 32,
      "outputs": [
        {
          "output_type": "execute_result",
          "data": {
            "text/plain": [
              "9"
            ]
          },
          "metadata": {},
          "execution_count": 32
        }
      ]
    },
    {
      "cell_type": "code",
      "source": [
        "def getLast(myList):\n",
        "    return myList[-2]\n",
        "\n",
        "getLast([1,2,3,4,5,6,7,8,9])"
      ],
      "metadata": {
        "colab": {
          "base_uri": "https://localhost:8080/"
        },
        "id": "tDxG3NjLW7d1",
        "outputId": "4f07957b-49cc-48b6-c75a-e79d97d073bd"
      },
      "execution_count": 33,
      "outputs": [
        {
          "output_type": "execute_result",
          "data": {
            "text/plain": [
              "8"
            ]
          },
          "metadata": {},
          "execution_count": 33
        }
      ]
    },
    {
      "cell_type": "code",
      "source": [
        "def getLast(myList):\n",
        "    return myList[-3]\n",
        "\n",
        "getLast([1,2,3,4,5,6,7,8,9])"
      ],
      "metadata": {
        "colab": {
          "base_uri": "https://localhost:8080/"
        },
        "id": "yoIppu8OW-0b",
        "outputId": "57f55173-cdfb-4290-cb3a-cf4634bc52f1"
      },
      "execution_count": 34,
      "outputs": [
        {
          "output_type": "execute_result",
          "data": {
            "text/plain": [
              "7"
            ]
          },
          "metadata": {},
          "execution_count": 34
        }
      ]
    },
    {
      "cell_type": "code",
      "source": [
        "def getSum(myList):\n",
        "    sum = 0\n",
        "    for item in myList:\n",
        "        sum = sum+item\n",
        "    return sum\n",
        "#perhatikan posisi spasi pada return\n",
        "\n",
        "getSum([1,2,3,4])"
      ],
      "metadata": {
        "colab": {
          "base_uri": "https://localhost:8080/"
        },
        "id": "yWL-t2ZMa2ez",
        "outputId": "684b8d2f-a965-49c0-84b6-c4270d2413c9"
      },
      "execution_count": 38,
      "outputs": [
        {
          "output_type": "execute_result",
          "data": {
            "text/plain": [
              "10"
            ]
          },
          "metadata": {},
          "execution_count": 38
        }
      ]
    },
    {
      "cell_type": "code",
      "source": [
        "def getSum(myList):\n",
        "    sum = 0\n",
        "    for item in myList:\n",
        "        sum = sum+item\n",
        "    return sum\n",
        "\n",
        "getSum([1,2,3])"
      ],
      "metadata": {
        "colab": {
          "base_uri": "https://localhost:8080/"
        },
        "id": "d10RlkiLbYCf",
        "outputId": "9e9251f7-516b-41b3-da24-7c7268752cd6"
      },
      "execution_count": 40,
      "outputs": [
        {
          "output_type": "execute_result",
          "data": {
            "text/plain": [
              "6"
            ]
          },
          "metadata": {},
          "execution_count": 40
        }
      ]
    },
    {
      "cell_type": "code",
      "source": [
        "def getSum(myList):\n",
        "    sum = 0\n",
        "    for item in myList:\n",
        "        sum = sum+item\n",
        "    return sum\n",
        "\n",
        "\n",
        "getSum([1,2,3,4,5])"
      ],
      "metadata": {
        "colab": {
          "base_uri": "https://localhost:8080/"
        },
        "id": "2p7Rcq7Wbhge",
        "outputId": "9c842b4e-6739-4763-fe18-3b64589aa2a3"
      },
      "execution_count": 41,
      "outputs": [
        {
          "output_type": "execute_result",
          "data": {
            "text/plain": [
              "15"
            ]
          },
          "metadata": {},
          "execution_count": 41
        }
      ]
    },
    {
      "cell_type": "code",
      "source": [
        "def getSum(myList):\n",
        "    sum = 1\n",
        "    for item in myList:\n",
        "        sum = sum+item\n",
        "    return sum\n",
        "\n",
        "\n",
        "getSum([1,2,3,4,5])"
      ],
      "metadata": {
        "colab": {
          "base_uri": "https://localhost:8080/"
        },
        "id": "ZxBUQHrgcGY-",
        "outputId": "0e0675d0-382b-47fc-dd92-316f88802277"
      },
      "execution_count": 42,
      "outputs": [
        {
          "output_type": "execute_result",
          "data": {
            "text/plain": [
              "16"
            ]
          },
          "metadata": {},
          "execution_count": 42
        }
      ]
    },
    {
      "cell_type": "code",
      "source": [
        "def getSum(myList):\n",
        "    sum = 2\n",
        "    for item in myList:\n",
        "        sum = sum+item\n",
        "    return sum\n",
        "\n",
        "\n",
        "getSum([1,2,3,4,5])"
      ],
      "metadata": {
        "colab": {
          "base_uri": "https://localhost:8080/"
        },
        "id": "7g-HFuuTcPdq",
        "outputId": "7d030bcd-48ef-4252-f51a-a6921a4aa5cd"
      },
      "execution_count": 43,
      "outputs": [
        {
          "output_type": "execute_result",
          "data": {
            "text/plain": [
              "17"
            ]
          },
          "metadata": {},
          "execution_count": 43
        }
      ]
    },
    {
      "cell_type": "code",
      "source": [
        "def getSum(myList):\n",
        "    sum = -2\n",
        "    for item in myList:\n",
        "        sum = sum+item\n",
        "    return sum\n",
        "\n",
        "\n",
        "getSum([1,2,3,4,5])"
      ],
      "metadata": {
        "colab": {
          "base_uri": "https://localhost:8080/"
        },
        "id": "J146eFOxcRt8",
        "outputId": "8eafa533-e462-4eaf-c96e-029df9e06fcc"
      },
      "execution_count": 44,
      "outputs": [
        {
          "output_type": "execute_result",
          "data": {
            "text/plain": [
              "13"
            ]
          },
          "metadata": {},
          "execution_count": 44
        }
      ]
    },
    {
      "cell_type": "code",
      "source": [
        "def getSum(myList):\n",
        "    sum = -5\n",
        "    for item in myList:\n",
        "        sum = sum+item\n",
        "    return sum\n",
        "\n",
        "\n",
        "getSum([1,2,3,4,5])"
      ],
      "metadata": {
        "colab": {
          "base_uri": "https://localhost:8080/"
        },
        "id": "8TrzDsm0cXq5",
        "outputId": "ba53d1c9-4363-47a1-e8a2-e35ebb6b0eef"
      },
      "execution_count": 46,
      "outputs": [
        {
          "output_type": "execute_result",
          "data": {
            "text/plain": [
              "10"
            ]
          },
          "metadata": {},
          "execution_count": 46
        }
      ]
    },
    {
      "cell_type": "code",
      "source": [
        "def getSum(myList):\n",
        "    sum = 2-3\n",
        "    for item in myList:\n",
        "        sum = sum+item\n",
        "    return sum\n",
        "\n",
        "\n",
        "getSum([1,2,3,4,5])"
      ],
      "metadata": {
        "colab": {
          "base_uri": "https://localhost:8080/"
        },
        "id": "V0NmpZMudH9s",
        "outputId": "9694b6c7-95bb-4960-8752-cb5f7e7d5b87"
      },
      "execution_count": 47,
      "outputs": [
        {
          "output_type": "execute_result",
          "data": {
            "text/plain": [
              "14"
            ]
          },
          "metadata": {},
          "execution_count": 47
        }
      ]
    },
    {
      "cell_type": "code",
      "source": [
        "def getSum(myList):\n",
        "    sum = 3-1\n",
        "    for item in myList:\n",
        "        sum = sum+item\n",
        "    return sum\n",
        "\n",
        "\n",
        "getSum([1,2,3,4,5])"
      ],
      "metadata": {
        "colab": {
          "base_uri": "https://localhost:8080/"
        },
        "id": "YzxYFvCMdN-D",
        "outputId": "ace14ff6-1138-4485-8b26-7759d2489dd1"
      },
      "execution_count": 49,
      "outputs": [
        {
          "output_type": "execute_result",
          "data": {
            "text/plain": [
              "17"
            ]
          },
          "metadata": {},
          "execution_count": 49
        }
      ]
    },
    {
      "cell_type": "code",
      "source": [
        "def getKali(myList):\n",
        "    kali = 1\n",
        "    for item in myList:\n",
        "        kali = kali*item\n",
        "    return kali\n",
        "\n",
        "getKali([1,2,3,4,5])"
      ],
      "metadata": {
        "colab": {
          "base_uri": "https://localhost:8080/"
        },
        "id": "UFu3LaxZdXL8",
        "outputId": "ed8aa153-b4b2-479d-adcb-79d761597246"
      },
      "execution_count": 52,
      "outputs": [
        {
          "output_type": "execute_result",
          "data": {
            "text/plain": [
              "120"
            ]
          },
          "metadata": {},
          "execution_count": 52
        }
      ]
    },
    {
      "cell_type": "code",
      "source": [
        "def getKali(myList):\n",
        "    kali = 0\n",
        "    for item in myList:\n",
        "        kali = kali*item\n",
        "    return kali\n",
        "\n",
        "getKali([1,2,3,4,5])"
      ],
      "metadata": {
        "colab": {
          "base_uri": "https://localhost:8080/"
        },
        "id": "VY7GUyfGdxEm",
        "outputId": "983e67d2-7e80-43e0-a8b6-c2d28130f4e6"
      },
      "execution_count": 53,
      "outputs": [
        {
          "output_type": "execute_result",
          "data": {
            "text/plain": [
              "0"
            ]
          },
          "metadata": {},
          "execution_count": 53
        }
      ]
    },
    {
      "cell_type": "code",
      "source": [
        "def getKali(myList):\n",
        "    kali = 5\n",
        "    for item in myList:\n",
        "        kali = kali*item\n",
        "    return kali\n",
        "\n",
        "getKali([1,2,3,4,5])"
      ],
      "metadata": {
        "colab": {
          "base_uri": "https://localhost:8080/"
        },
        "id": "KOF7AdS8d0pW",
        "outputId": "f9d797f0-bb49-45e7-9b86-35d4eb0d8fb6"
      },
      "execution_count": 54,
      "outputs": [
        {
          "output_type": "execute_result",
          "data": {
            "text/plain": [
              "600"
            ]
          },
          "metadata": {},
          "execution_count": 54
        }
      ]
    },
    {
      "cell_type": "code",
      "source": [
        "def getKali(myList):\n",
        "    kali = 5\n",
        "    for item in myList:\n",
        "        kali = kali*item\n",
        "    return kali\n",
        "\n",
        "getKali([1,2,3])"
      ],
      "metadata": {
        "colab": {
          "base_uri": "https://localhost:8080/"
        },
        "id": "G848jMt8eU_y",
        "outputId": "e9881380-b5b3-44d8-dd03-76bc491d9f57"
      },
      "execution_count": 60,
      "outputs": [
        {
          "output_type": "execute_result",
          "data": {
            "text/plain": [
              "30"
            ]
          },
          "metadata": {},
          "execution_count": 60
        }
      ]
    },
    {
      "cell_type": "code",
      "source": [
        "def getKali(myList):\n",
        "    kali = -2\n",
        "    for item in myList:\n",
        "        kali = kali*item\n",
        "    return kali\n",
        "\n",
        "getKali([1,2,3,4,5])"
      ],
      "metadata": {
        "colab": {
          "base_uri": "https://localhost:8080/"
        },
        "id": "3BlfyZzDd_zD",
        "outputId": "c89a3a0b-a652-490c-e40f-edd443d52307"
      },
      "execution_count": 55,
      "outputs": [
        {
          "output_type": "execute_result",
          "data": {
            "text/plain": [
              "-240"
            ]
          },
          "metadata": {},
          "execution_count": 55
        }
      ]
    },
    {
      "cell_type": "code",
      "source": [
        "def getKali(myList):\n",
        "    kali = 3\n",
        "    for item in myList:\n",
        "        kali = kali*item\n",
        "    return kali\n",
        "\n",
        "getKali([1,2,3,4,5])"
      ],
      "metadata": {
        "colab": {
          "base_uri": "https://localhost:8080/"
        },
        "id": "-X2fu-K_eCZh",
        "outputId": "9f67802a-f99e-44b4-d8d4-74e23e123def"
      },
      "execution_count": 56,
      "outputs": [
        {
          "output_type": "execute_result",
          "data": {
            "text/plain": [
              "360"
            ]
          },
          "metadata": {},
          "execution_count": 56
        }
      ]
    },
    {
      "cell_type": "code",
      "source": [
        "def getBagi(myList):\n",
        "    bagi = 0\n",
        "    for item in myList:\n",
        "        bagi = bagi/item\n",
        "    return bagi\n",
        "\n",
        "getBagi([1,2,3,4,5])"
      ],
      "metadata": {
        "colab": {
          "base_uri": "https://localhost:8080/"
        },
        "id": "1F0AUptfeEzh",
        "outputId": "1e232369-f428-4afe-9611-731a8c322f70"
      },
      "execution_count": 66,
      "outputs": [
        {
          "output_type": "execute_result",
          "data": {
            "text/plain": [
              "0.0"
            ]
          },
          "metadata": {},
          "execution_count": 66
        }
      ]
    },
    {
      "cell_type": "code",
      "source": [
        "def getBagi(myList):\n",
        "    bagi = 1\n",
        "    for item in myList:\n",
        "        bagi = bagi/item\n",
        "    return bagi\n",
        "\n",
        "getBagi([1,2,3])"
      ],
      "metadata": {
        "colab": {
          "base_uri": "https://localhost:8080/"
        },
        "id": "cgiaU6Xpea5o",
        "outputId": "631fc17b-15be-4f0f-af6d-a151db5730a3"
      },
      "execution_count": 62,
      "outputs": [
        {
          "output_type": "execute_result",
          "data": {
            "text/plain": [
              "0.16666666666666666"
            ]
          },
          "metadata": {},
          "execution_count": 62
        }
      ]
    },
    {
      "cell_type": "code",
      "source": [
        "def getBagi(myList):\n",
        "    bagi = 2\n",
        "    for item in myList:\n",
        "        bagi = bagi/item\n",
        "    return bagi\n",
        "\n",
        "getBagi([1,2,3])"
      ],
      "metadata": {
        "colab": {
          "base_uri": "https://localhost:8080/"
        },
        "id": "Qdxxkbwgeu0M",
        "outputId": "8f5fb5f1-1201-4a25-c90f-f0d04f1496c0"
      },
      "execution_count": 65,
      "outputs": [
        {
          "output_type": "execute_result",
          "data": {
            "text/plain": [
              "0.3333333333333333"
            ]
          },
          "metadata": {},
          "execution_count": 65
        }
      ]
    },
    {
      "cell_type": "code",
      "source": [
        "def getAverage(myList):\n",
        "    Average = 0\n",
        "    for item in myList:\n",
        "        Average = sum(myList) / len(myList)\n",
        "    return Average\n",
        "\n",
        "\n",
        "getAverage([1,2,3,4,5])"
      ],
      "metadata": {
        "colab": {
          "base_uri": "https://localhost:8080/"
        },
        "id": "19bWN2j_fV-u",
        "outputId": "d67a1723-a878-4eb9-fb28-8bfb28b9409f"
      },
      "execution_count": 78,
      "outputs": [
        {
          "output_type": "execute_result",
          "data": {
            "text/plain": [
              "3.0"
            ]
          },
          "metadata": {},
          "execution_count": 78
        }
      ]
    },
    {
      "cell_type": "code",
      "source": [
        "def add(list_a, list_b):\n",
        "  result = []\n",
        "  for first, second in zip(list_a, list_b):\n",
        "    result.append(first - second)\n",
        "  return result\n",
        "\n",
        "add(a, b)"
      ],
      "metadata": {
        "colab": {
          "base_uri": "https://localhost:8080/"
        },
        "id": "OSeZLfBLoLDI",
        "outputId": "98a40087-e426-4d51-c13b-4287370e7929"
      },
      "execution_count": 79,
      "outputs": [
        {
          "output_type": "execute_result",
          "data": {
            "text/plain": [
              "[-3, -3, -3]"
            ]
          },
          "metadata": {},
          "execution_count": 79
        }
      ]
    },
    {
      "cell_type": "code",
      "source": [
        "x = ([1,2,3,4,5])\n",
        "y = ([1,2,3,4,5])\n",
        "hasil = sum(x) / sum(y)\n",
        "print(hasil)"
      ],
      "metadata": {
        "colab": {
          "base_uri": "https://localhost:8080/"
        },
        "id": "s_vR5yZGqtSD",
        "outputId": "abae5202-5dc1-4d0f-b54c-4ad1d4f95c65"
      },
      "execution_count": 80,
      "outputs": [
        {
          "output_type": "stream",
          "name": "stdout",
          "text": [
            "1.0\n"
          ]
        }
      ]
    },
    {
      "cell_type": "code",
      "source": [
        "def kurang(list_a, list_b):\n",
        "  return getSum(list_a) - getSum(list_b)\n",
        "\n",
        "kurang([1,2,3,4],[5,6,7,8])"
      ],
      "metadata": {
        "colab": {
          "base_uri": "https://localhost:8080/"
        },
        "id": "qjnxmbyDsG1s",
        "outputId": "7ae21739-1b8d-45f9-8164-71169b91c44e"
      },
      "execution_count": 82,
      "outputs": [
        {
          "output_type": "execute_result",
          "data": {
            "text/plain": [
              "4.440892098500626e-16"
            ]
          },
          "metadata": {},
          "execution_count": 82
        }
      ]
    },
    {
      "cell_type": "code",
      "source": [
        "def bagi(list_a, list_b):\n",
        "  return getSum(list_a) / getSum(list_b)\n",
        "\n",
        "bagi([1,2,3,4],[5,6,7,8])"
      ],
      "metadata": {
        "colab": {
          "base_uri": "https://localhost:8080/"
        },
        "id": "e-n4Teyfs7Io",
        "outputId": "be5b070d-4f25-4797-d42a-b7df8d1c9f3d"
      },
      "execution_count": 84,
      "outputs": [
        {
          "output_type": "execute_result",
          "data": {
            "text/plain": [
              "1.0000000000000002"
            ]
          },
          "metadata": {},
          "execution_count": 84
        }
      ]
    }
  ]
}