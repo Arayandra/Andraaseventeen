{
  "nbformat": 4,
  "nbformat_minor": 0,
  "metadata": {
    "colab": {
      "provenance": [],
      "authorship_tag": "ABX9TyMfoupnIu0FlJNLPPo4L8/3",
      "include_colab_link": true
    },
    "kernelspec": {
      "name": "python3",
      "display_name": "Python 3"
    },
    "language_info": {
      "name": "python"
    }
  },
  "cells": [
    {
      "cell_type": "markdown",
      "metadata": {
        "id": "view-in-github",
        "colab_type": "text"
      },
      "source": [
        "<a href=\"https://colab.research.google.com/github/Arayandra/Andraaseventeen/blob/main/Kode_Latihan_1.ipynb\" target=\"_parent\"><img src=\"https://colab.research.google.com/assets/colab-badge.svg\" alt=\"Open In Colab\"/></a>"
      ]
    },
    {
      "cell_type": "code",
      "execution_count": 1,
      "metadata": {
        "colab": {
          "base_uri": "https://localhost:8080/"
        },
        "id": "IaqrGsP1SqQJ",
        "outputId": "284cf9a9-0088-4851-f62a-bcf018562a01"
      },
      "outputs": [
        {
          "output_type": "stream",
          "name": "stdout",
          "text": [
            "Volume Kerucut = 26.166666666666664\n"
          ]
        }
      ],
      "source": [
        "d = 5\n",
        "t = 4\n",
        "r = d / 2\n",
        "pi = 3.14\n",
        "\n",
        "#Rumus Volume Kerucut = 1/3 x pi x r**2 x t\n",
        "volume = (1/3) * pi * (r ** 2) * t\n",
        "\n",
        "print(\"Volume Kerucut =\", volume)"
      ]
    },
    {
      "cell_type": "code",
      "source": [
        "def swap(x, y):\n",
        "    # Membuat list piring dengan 3 elemen\n",
        "    piring = [x, y, \"\"]\n",
        "\n",
        "    # Menukar nilai x dan y\n",
        "    piring[0] = y\n",
        "    piring[1] = x\n",
        "\n",
        "    # Mengosongkan piring ke-3\n",
        "    piring[2] = \"\"\n",
        "\n",
        "    # Menampilkan isi setiap piring\n",
        "    for i in range(len(piring)):\n",
        "        print(\"piring\", i+1, \"=\", str(piring[i]))\n",
        "\n",
        "x = \"manggis\"\n",
        "y = \"pisang\"\n",
        "\n",
        "print(\"piring 1 =\", x)\n",
        "print(\"piring 2 =\", y)\n",
        "print(\"piring 3 = \")\n",
        "\n",
        "print(\"\\nHasil penukaran:\")\n",
        "swap(x, y)"
      ],
      "metadata": {
        "colab": {
          "base_uri": "https://localhost:8080/"
        },
        "id": "yQ4KaWSMTEtD",
        "outputId": "111c780b-c2db-4e9d-ad69-fd1a0d025115"
      },
      "execution_count": 2,
      "outputs": [
        {
          "output_type": "stream",
          "name": "stdout",
          "text": [
            "piring 1 = manggis\n",
            "piring 2 = pisang\n",
            "piring 3 = \n",
            "\n",
            "Hasil penukaran:\n",
            "piring 1 = pisang\n",
            "piring 2 = manggis\n",
            "piring 3 = \n"
          ]
        }
      ]
    },
    {
      "cell_type": "code",
      "source": [
        "#Diketahui\n",
        "p = 5\n",
        "t = 3\n",
        "\n",
        "#Rumus Luas Jajar Genjang = Panjang x Tinggi\n",
        "luas = p * t\n",
        "print(\"Luas Jajar Genjang adalah = \", luas)\n"
      ],
      "metadata": {
        "colab": {
          "base_uri": "https://localhost:8080/"
        },
        "id": "3q4BA09-TM-q",
        "outputId": "71c9c8e3-f9e7-40e5-9ed9-8a0e3d5db255"
      },
      "execution_count": 4,
      "outputs": [
        {
          "output_type": "stream",
          "name": "stdout",
          "text": [
            "Luas Jajar Genjang adalah =  15\n"
          ]
        }
      ]
    },
    {
      "cell_type": "code",
      "source": [
        "#Diketahui\n",
        "a = 25\n",
        "t = 30\n",
        "\n",
        "#Rumus Luas Segitiga = 1/2 x alas x tinggi\n",
        "luas = 1/2 * a * t\n",
        "print(\"Luas Segitiga adalah = \", luas)"
      ],
      "metadata": {
        "colab": {
          "base_uri": "https://localhost:8080/"
        },
        "id": "U0HXUPGQTTY1",
        "outputId": "308b3e51-deb7-4197-c34d-53239737ed41"
      },
      "execution_count": 5,
      "outputs": [
        {
          "output_type": "stream",
          "name": "stdout",
          "text": [
            "Luas Segitiga adalah =  375.0\n"
          ]
        }
      ]
    },
    {
      "cell_type": "code",
      "source": [
        "#Diketahui\n",
        "r = 3\n",
        "t = 5\n",
        "pi = 3.14\n",
        "\n",
        "#Rumus Volume Tabung = pi * r**2 * t\n",
        "volume = 3.14 * r**2 * t\n",
        "print(\"Volume Tabung adalah = \", volume)"
      ],
      "metadata": {
        "colab": {
          "base_uri": "https://localhost:8080/"
        },
        "id": "8gzuacdcTYSL",
        "outputId": "3ec26a9a-3698-4209-fec9-6508477c868c"
      },
      "execution_count": 6,
      "outputs": [
        {
          "output_type": "stream",
          "name": "stdout",
          "text": [
            "Volume Tabung adalah =  141.3\n"
          ]
        }
      ]
    },
    {
      "cell_type": "code",
      "source": [
        "def kpk(a, b):\n",
        "    if a > b:\n",
        "        terbesar = a\n",
        "    else:\n",
        "        terbesar = b\n",
        "\n",
        "    while True:\n",
        "        if terbesar % a == 0 and terbesar % b == 0:\n",
        "            kpk = terbesar\n",
        "            break\n",
        "        terbesar += 1\n",
        "\n",
        "    return kpk\n",
        "a = 3\n",
        "b = 4\n",
        "kpk = kpk(a, b)\n",
        "print(\"KPK dari\", a, \"dan\", b, \"yaitu\", kpk)"
      ],
      "metadata": {
        "colab": {
          "base_uri": "https://localhost:8080/"
        },
        "id": "86VcPNpETiyf",
        "outputId": "7011ff99-b851-42b0-a8e2-8a6931c8b41f"
      },
      "execution_count": 7,
      "outputs": [
        {
          "output_type": "stream",
          "name": "stdout",
          "text": [
            "KPK dari 3 dan 4 yaitu 12\n"
          ]
        }
      ]
    }
  ]
}