{
  "nbformat": 4,
  "nbformat_minor": 0,
  "metadata": {
    "colab": {
      "provenance": [],
      "authorship_tag": "ABX9TyMA4ncr8X/kJGQQ0oGthMKO",
      "include_colab_link": true
    },
    "kernelspec": {
      "name": "python3",
      "display_name": "Python 3"
    },
    "language_info": {
      "name": "python"
    }
  },
  "cells": [
    {
      "cell_type": "markdown",
      "metadata": {
        "id": "view-in-github",
        "colab_type": "text"
      },
      "source": [
        "<a href=\"https://colab.research.google.com/github/Arayandra/Andraaseventeen/blob/Pemrograman-Visual/Tugas_Pemvis_pertemuan_6.ipynb\" target=\"_parent\"><img src=\"https://colab.research.google.com/assets/colab-badge.svg\" alt=\"Open In Colab\"/></a>"
      ]
    },
    {
      "cell_type": "code",
      "source": [
        "#Latihan Sets\n",
        "makanans = {\"nasi goreng\", \"soto\", \"rendang\", \"gulai\", \"sate\", \"mie ayam\", \"bakso\", \"bakwan\"}\n",
        "\n",
        "while True:\n",
        "    print(\"\\nPilihan Resto Serbamakan:\")\n",
        "    print(\"1. Tampilkan daftar makanan\")\n",
        "    print(\"2. Tambah pesanan\")\n",
        "    print(\"3. Hapus pesanan\")\n",
        "    print(\"4. Buang pesanan yang sudah tidak layak\")\n",
        "    print(\"5. Keluar\")\n",
        "\n",
        "    choice = input(\"Masukkan pilihan (1/2/3/4/5): \")\n",
        "\n",
        "    if choice == \"1\":\n",
        "        print(\"Daftar Makanan:\")\n",
        "        for makanan in makanans:\n",
        "            print(makanan)\n",
        "    elif choice == \"2\":\n",
        "        makanan = input(\"Masukkan makanan yang ingin ditambahkan: \")\n",
        "        makanans.add(makanan)\n",
        "        print(f\"{makanan} telah ditambahkan.\")\n",
        "    elif choice == \"3\":\n",
        "        makanan = input(\"Masukkan makanan yang ingin dihapus: \")\n",
        "        if makanan in makanans:\n",
        "            makanans.remove(makanan)\n",
        "            print(f\"{makanan} telah dihapus.\")\n",
        "        else:\n",
        "            print(f\"{makanan} tidak ditemukan dalam daftar.\")\n",
        "    elif choice == \"4\":\n",
        "        makanan = input(\"Masukkan makanan yang ingin dibuang: \")\n",
        "        makanans.discard(makanan)\n",
        "        print(f\"{makanan} telah dibuang.\")\n",
        "    elif choice == \"5\":\n",
        "        print(\"Terima kasih telah memesan makanan di resto kami\")\n",
        "        break\n",
        "    else:\n",
        "        print(\"Pilihan tidak valid. Silakan coba lagi.\")"
      ],
      "metadata": {
        "colab": {
          "base_uri": "https://localhost:8080/"
        },
        "id": "M8tZLMhupzmi",
        "outputId": "aeec3ab4-86e6-4df1-c2e2-3150e7eedcd0"
      },
      "execution_count": 17,
      "outputs": [
        {
          "output_type": "stream",
          "name": "stdout",
          "text": [
            "\n",
            "Pilihan Resto Serbamakan:\n",
            "1. Tampilkan daftar makanan\n",
            "2. Tambah pesanan\n",
            "3. Hapus pesanan\n",
            "4. Buang pesanan yang sudah tidak layak\n",
            "5. Keluar\n",
            "Masukkan pilihan (1/2/3/4/5): 1\n",
            "Daftar Makanan:\n",
            "gulai\n",
            "bakso\n",
            "nasi goreng\n",
            "soto\n",
            "rendang\n",
            "mie ayam\n",
            "bakwan\n",
            "sate\n",
            "\n",
            "Pilihan Resto Serbamakan:\n",
            "1. Tampilkan daftar makanan\n",
            "2. Tambah pesanan\n",
            "3. Hapus pesanan\n",
            "4. Buang pesanan yang sudah tidak layak\n",
            "5. Keluar\n",
            "Masukkan pilihan (1/2/3/4/5): 4\n",
            "Masukkan makanan yang ingin dibuang: bakwan\n",
            "bakwan telah dibuang.\n",
            "\n",
            "Pilihan Resto Serbamakan:\n",
            "1. Tampilkan daftar makanan\n",
            "2. Tambah pesanan\n",
            "3. Hapus pesanan\n",
            "4. Buang pesanan yang sudah tidak layak\n",
            "5. Keluar\n",
            "Masukkan pilihan (1/2/3/4/5): 1\n",
            "Daftar Makanan:\n",
            "gulai\n",
            "bakso\n",
            "nasi goreng\n",
            "soto\n",
            "rendang\n",
            "mie ayam\n",
            "sate\n",
            "\n",
            "Pilihan Resto Serbamakan:\n",
            "1. Tampilkan daftar makanan\n",
            "2. Tambah pesanan\n",
            "3. Hapus pesanan\n",
            "4. Buang pesanan yang sudah tidak layak\n",
            "5. Keluar\n",
            "Masukkan pilihan (1/2/3/4/5): 5\n",
            "Terima kasih telah memesan makanan di resto kami\n"
          ]
        }
      ]
    },
    {
      "cell_type": "code",
      "source": [
        "#Latihan Boolean\n",
        "# 1. ada 2 input (masukkan nilai) a dan b\n",
        "a = float(input(\"Masukkan nilai a: \"))\n",
        "b = float(input(\"Masukkan nilai b: \"))\n",
        "\n",
        "# 2. output berupa print\n",
        "print(\"Nilai a: \", a)\n",
        "print(\"Nilai b: \", b)\n",
        "\n",
        "# 3. cek dengan boolean apakah a lebih besar dari b?\n",
        "a_lebih_b = a > b\n",
        "print(\"a lebih besar dari b:\", a_lebih_b)\n",
        "\n",
        "# 4. cek dengan boolean apakah b lebih besar dari a?\n",
        "b_lebih_a = b > a\n",
        "print(\"b lebih besar dari a:\", b_lebih_a)\n",
        "\n",
        "# 5. cek dengan boolean apakah a sama dengan b?\n",
        "a_sama_b = a == b\n",
        "print(\"a sama dengan b:\", a_sama_b)\n",
        "\n",
        "# 6. hitung ppn a sebesar 12%, jika lebih dari 10000\n",
        "ppn_a = a * 0.12 if a > 10000 else 0\n",
        "print(\"PPN a:\", ppn_a)\n",
        "\n",
        "# 7. hitung ppn b sebesar 12%, jika lebih dari 50000\n",
        "ppn_b = b * 0.12 if b > 50000 else 0\n",
        "print(\"PPN b:\", ppn_b)\n",
        "\n",
        "# 8. tambahkan keduai ppn a dan b, cek dengan boolean\n",
        "total_ppn = ppn_a + ppn_b\n",
        "print(\"Total PPN:\", total_ppn)\n",
        "\n",
        "# 9. hapus a dan b, cek dengan boolean\n",
        "hapus = input(\"Hapus a/b: \")\n",
        "if hapus.lower() == \"a\":\n",
        "    a = 0\n",
        "elif hapus.lower() == \"b\":\n",
        "    b = 0\n",
        "else:\n",
        "    print(\"Inputan tidak valid\")\n",
        "\n",
        "print(\"Nilai a:\", bool(a))\n",
        "print(\"Nilai b:\", bool(b))"
      ],
      "metadata": {
        "colab": {
          "base_uri": "https://localhost:8080/"
        },
        "id": "AmZxJ4YAyxxc",
        "outputId": "115598a3-9c3a-498f-9d06-697c9c051073"
      },
      "execution_count": 19,
      "outputs": [
        {
          "output_type": "stream",
          "name": "stdout",
          "text": [
            "Masukkan nilai a: 400\n",
            "Masukkan nilai b: 500\n",
            "Nilai a:  400.0\n",
            "Nilai b:  500.0\n",
            "a lebih besar dari b: False\n",
            "b lebih besar dari a: True\n",
            "a sama dengan b: False\n",
            "PPN a: 0\n",
            "PPN b: 0\n",
            "Total PPN: 0\n",
            "Hapus a/b: a\n",
            "Nilai a: False\n",
            "Nilai b: True\n"
          ]
        }
      ]
    },
    {
      "cell_type": "code",
      "source": [
        "#Masukkan posisi pixel pada layar (nomor baris)\n",
        "pixel_row = 300\n",
        "rowmax = int(1079)\n",
        "batas1 = int(0.2*rowmax)\n",
        "batas2 = int(0.4*rowmax)\n",
        "batas3 = int(0.6*rowmax)\n",
        "batas4 = int(0.8*rowmax)\n",
        "print(\"batas1: \", batas1)\n",
        "print(\"batas2: \", batas2)\n",
        "print(\"batas3: \", batas1)\n",
        "print(\"batas4: \", batas4)\n",
        "print(\"rowmax: \", rowmax)\n",
        "print(\"Posisi pixel berada pada baris ke-\", pixel_row)\n",
        "if (pixel_row >= 0 and pixel_row < batas1):\n",
        "  print(\"Warnai pixel merah.\")\n",
        "if (pixel_row >= batas1 and pixel_row < batas2):\n",
        "  print(\"Warnai pixel hijau.\")\n",
        "if (pixel_row >= batas2 and pixel_row < batas3):\n",
        "  print(\"Warnai pixel biru.\")\n",
        "if (pixel_row >= batas3 and pixel_row < batas4):\n",
        "  print(\"Warnai pixel kuning.\")\n",
        "if (pixel_row >= batas4 and pixel_row < rowmax):\n",
        "  print(\"Warnai pixel ungu.\")"
      ],
      "metadata": {
        "colab": {
          "base_uri": "https://localhost:8080/"
        },
        "id": "uHAwd13K2-PE",
        "outputId": "691660bc-01ea-447a-99cd-212d469c7b7a"
      },
      "execution_count": 21,
      "outputs": [
        {
          "output_type": "stream",
          "name": "stdout",
          "text": [
            "batas1:  215\n",
            "batas2:  431\n",
            "batas3:  215\n",
            "batas4:  863\n",
            "rowmax:  1079\n",
            "Posisi pixel berada pada baris ke- 300\n",
            "Warnai pixel hijau.\n"
          ]
        }
      ]
    },
    {
      "cell_type": "code",
      "source": [
        "#LOOP, KONDISI, KOMPARASI, DAN OPERASI LOGIKA\n",
        "print(\"\\033c\")\n",
        "import numpy as np\n",
        "import matplotlib.pyplot as plt\n",
        "\n",
        "\n",
        "rowmax = int(1079)\n",
        "colmax = int(1919)\n",
        "\n",
        "#To close all\n",
        "radius_max = int(1000)\n",
        "batas1 = int(0.2*radius_max)\n",
        "batas2 = int(0.4*radius_max)\n",
        "batas3 = int(0.6*radius_max)\n",
        "batas4 = int(0.8*radius_max)\n",
        "\n",
        "Gambar = np.zeros(shape=(rowmax+1, colmax+1, 3), dtype=np.int16)\n",
        "\n",
        "for i in range(0, rowmax+1):\n",
        "    for j in range(0, colmax+1):\n",
        "        if (i**2+j**2) >= 0 and (i**2+j**2) < batas1**2:\n",
        "            Gambar[i, j, 0] = 255\n",
        "        elif (i**2+j**2) >= batas1**2 and (i**2+j**2) < batas2**2:\n",
        "            Gambar[i, j, 1] = 255\n",
        "        elif (i**2+j**2) >= batas2**2 and (i**2+j**2) < batas3**2:\n",
        "            Gambar[i, j, 2] = 255\n",
        "        elif (i**2+j**2) >= batas3**2 and (i**2+j**2) < batas4**2:\n",
        "            Gambar[i, j, 0] = 255\n",
        "            Gambar[i, j, 1] = 255\n",
        "        elif (i**2+j**2) >= batas4**2 and (i**2+j**2) < radius_max**2:\n",
        "            Gambar[i, j, 0] = 255\n",
        "            Gambar[i, j, 2] = 255\n",
        "\n",
        "plt.figure()\n",
        "plt.imshow(Gambar)\n",
        "plt.show()"
      ],
      "metadata": {
        "colab": {
          "base_uri": "https://localhost:8080/",
          "height": 362
        },
        "id": "V5zoJnlm7azJ",
        "outputId": "5b1d035c-e876-41cf-c064-58a8d20c7af8"
      },
      "execution_count": 26,
      "outputs": [
        {
          "output_type": "stream",
          "name": "stdout",
          "text": [
            "\u001bc\n"
          ]
        },
        {
          "output_type": "display_data",
          "data": {
            "text/plain": [
              "<Figure size 640x480 with 1 Axes>"
            ],
            "image/png": "[encoded data removed]"
          },
          "metadata": {}
        }
      ]
    },
    {
      "cell_type": "code",
      "source": [
        "import numpy as np\n",
        "import matplotlib.pyplot as plt\n",
        "\n",
        "print(\"\\033c\")\n",
        "rowmax = int(1079)\n",
        "colmax = int(1919)\n",
        "\n",
        "radius_max = int(1000)\n",
        "batas = [int(0.8 * radius_max), int(0.9 * radius_max), int(1.1 * radius_max), int(1.3 * radius_max), radius_max]\n",
        "\n",
        "Gambar = np.zeros(shape=(rowmax + 1, colmax + 1, 3), dtype=np.int16)\n",
        "\n",
        "for i in range(0, rowmax + 1):\n",
        "    for j in range(0, colmax + 1):\n",
        "        radius = i ** 2 + j ** 2\n",
        "        if radius >= 0 and radius < batas[0] ** 2:\n",
        "            Gambar[i, j, 0] = 225\n",
        "        elif radius >= batas[0] ** 2 and radius < batas[1] ** 2:\n",
        "            Gambar[i, j, 1] = 300\n",
        "        elif radius >= batas[1] ** 2 and radius < batas[2] ** 2:\n",
        "            Gambar[i, j, 2] = 225\n",
        "\n",
        "\n",
        "\n",
        "\n",
        "plt.figure()\n",
        "plt.imshow(Gambar)\n",
        "plt.show()"
      ],
      "metadata": {
        "colab": {
          "base_uri": "https://localhost:8080/",
          "height": 380
        },
        "id": "6LpXSQvj8Tiq",
        "outputId": "c7767579-ca90-496e-884a-b6337b32044d"
      },
      "execution_count": 53,
      "outputs": [
        {
          "output_type": "stream",
          "name": "stdout",
          "text": [
            "\u001bc\n"
          ]
        },
        {
          "output_type": "stream",
          "name": "stderr",
          "text": [
            "WARNING:matplotlib.image:Clipping input data to the valid range for imshow with RGB data ([0..1] for floats or [0..255] for integers).\n"
          ]
        },
        {
          "output_type": "display_data",
          "data": {
            "text/plain": [
              "<Figure size 640x480 with 1 Axes>"
            ],
            "image/png": "[encoded data removed]"
          },
          "metadata": {}
        }
      ]
    }
  ]
}