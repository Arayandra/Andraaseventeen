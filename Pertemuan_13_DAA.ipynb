{
  "nbformat": 4,
  "nbformat_minor": 0,
  "metadata": {
    "colab": {
      "provenance": [],
      "authorship_tag": "ABX9TyMhvvYQE4LiZ2xQtTY+3NIN",
      "include_colab_link": true
    },
    "kernelspec": {
      "name": "python3",
      "display_name": "Python 3"
    },
    "language_info": {
      "name": "python"
    }
  },
  "cells": [
    {
      "cell_type": "markdown",
      "metadata": {
        "id": "view-in-github",
        "colab_type": "text"
      },
      "source": [
        "<a href=\"https://colab.research.google.com/github/Arayandra/Andraaseventeen/blob/main/Pertemuan_13_DAA.ipynb\" target=\"_parent\"><img src=\"https://colab.research.google.com/assets/colab-badge.svg\" alt=\"Open In Colab\"/></a>"
      ]
    },
    {
      "cell_type": "code",
      "execution_count": null,
      "metadata": {
        "id": "w__IY8P3u14G"
      },
      "outputs": [],
      "source": [
        "def bfs(graph, start):\n",
        "  visited = []\n",
        "  queue = []\n",
        "  queue = [start]\n",
        "  while queue:\n",
        "    node = queue.pop(0)\n",
        "    if node not in visited:\n",
        "      visited.append(node)\n",
        "      neighbours = graph[node]\n",
        "      for neighbour in neighbours:\n",
        "        queue.append(neighbour)\n",
        "  return visited"
      ]
    },
    {
      "cell_type": "code",
      "source": [
        "graph = {'Amin' : ['Wasim', 'Nick', 'Mike'],\n",
        "         'Wasim' : ['Imran', 'Amin'],\n",
        "         'Imran' : ['Wasim', 'Faras'],\n",
        "         'Faras' : ['Imran'],\n",
        "         'Mike' : ['Amin'],\n",
        "         'Nick' : ['Amin']}"
      ],
      "metadata": {
        "id": "uP7W6RUru3Tx"
      },
      "execution_count": null,
      "outputs": []
    },
    {
      "cell_type": "code",
      "source": [
        "# O Amin ---------------------------\n",
        "# |                |                |\n",
        "# O Wasim       O Nick           O Mike\n",
        "# |\n",
        "# O Imran\n",
        "# |\n",
        "# O Faras\n",
        "\n",
        "bfs(graph, 'Amin')"
      ],
      "metadata": {
        "colab": {
          "base_uri": "https://localhost:8080/"
        },
        "id": "6wJDy1A-u53k",
        "outputId": "ddda2f28-9e36-463c-c070-c93245535f9b"
      },
      "execution_count": null,
      "outputs": [
        {
          "output_type": "execute_result",
          "data": {
            "text/plain": [
              "['Amin', 'Wasim', 'Nick', 'Mike', 'Imran', 'Faras']"
            ]
          },
          "metadata": {},
          "execution_count": 3
        }
      ]
    },
    {
      "cell_type": "code",
      "source": [
        "# O Amin ---------------------------\n",
        "# |                |                |\n",
        "# O Wasim       O Nick           O Mike\n",
        "# |\n",
        "# O Imran\n",
        "# |\n",
        "# O Faras\n",
        "\n",
        "bfs(graph, 'Wasim')"
      ],
      "metadata": {
        "colab": {
          "base_uri": "https://localhost:8080/"
        },
        "id": "Tz5QEg9ru8ib",
        "outputId": "2b3b7259-a882-4d48-c445-c72e458dcf33"
      },
      "execution_count": null,
      "outputs": [
        {
          "output_type": "execute_result",
          "data": {
            "text/plain": [
              "['Wasim', 'Imran', 'Amin', 'Faras', 'Nick', 'Mike']"
            ]
          },
          "metadata": {},
          "execution_count": 4
        }
      ]
    },
    {
      "cell_type": "code",
      "source": [
        "# O Amin ---------------------------\n",
        "# |                |                |\n",
        "# O Wasim       O Nick           O Mike\n",
        "# |\n",
        "# O Imran\n",
        "# |\n",
        "# O Faras\n",
        "\n",
        "bfs(graph, 'Faras')"
      ],
      "metadata": {
        "colab": {
          "base_uri": "https://localhost:8080/"
        },
        "id": "xfrOryXqu-nj",
        "outputId": "90c86a10-041c-4bba-9893-2461e0e87439"
      },
      "execution_count": null,
      "outputs": [
        {
          "output_type": "execute_result",
          "data": {
            "text/plain": [
              "['Faras', 'Imran', 'Wasim', 'Amin', 'Nick', 'Mike']"
            ]
          },
          "metadata": {},
          "execution_count": 5
        }
      ]
    },
    {
      "cell_type": "code",
      "source": [
        "# O Amin ---------------------------\n",
        "# |                |                |\n",
        "# O Wasim       O Nick           O Mike\n",
        "# |\n",
        "# O Imran\n",
        "# |\n",
        "# O Faras\n",
        "\n",
        "bfs(graph, 'Nick')"
      ],
      "metadata": {
        "colab": {
          "base_uri": "https://localhost:8080/"
        },
        "id": "I3do-c2svpJe",
        "outputId": "72aa0454-b965-4658-9a5c-e826acbb0c58"
      },
      "execution_count": null,
      "outputs": [
        {
          "output_type": "execute_result",
          "data": {
            "text/plain": [
              "['Nick', 'Amin', 'Wasim', 'Mike', 'Imran', 'Faras']"
            ]
          },
          "metadata": {},
          "execution_count": 6
        }
      ]
    },
    {
      "cell_type": "code",
      "source": [
        "# O Amin ---------------------------\n",
        "# |                |                |\n",
        "# O Wasim       O Nick           O Mike\n",
        "# |\n",
        "# O Imran\n",
        "# |\n",
        "# O Faras\n",
        "\n",
        "bfs(graph, 'Imran')"
      ],
      "metadata": {
        "colab": {
          "base_uri": "https://localhost:8080/"
        },
        "id": "-wCo_RRev7Qf",
        "outputId": "8d6709bb-650e-424f-fb7a-836b8bc6b6a8"
      },
      "execution_count": null,
      "outputs": [
        {
          "output_type": "execute_result",
          "data": {
            "text/plain": [
              "['Imran', 'Wasim', 'Faras', 'Amin', 'Nick', 'Mike']"
            ]
          },
          "metadata": {},
          "execution_count": 7
        }
      ]
    },
    {
      "cell_type": "code",
      "source": [
        "graph2 = {'Rektor' : ['Warek 1', 'Warek 2'],\n",
        "          'Warek 1' : ['Rektor'],\n",
        "          'Warek 2' : ['Rektor', 'Kaprodi 1', 'Kaprodi 2', 'Kaprodi 3'],\n",
        "          'Kaprodi 1' : ['Warek 2', 'Dosen A', 'Dosen B', 'Dosen C'],\n",
        "          'Dosen A' : ['Kaprodi 1'],\n",
        "          'Dosen B' : ['Kaprodi 1'],\n",
        "          'Dosen C' : ['Kaprodi 1'],\n",
        "          'Kaprodi 2' : ['Warek 2', 'Dosen D', 'Dosen E'],\n",
        "          'Dosen D' : ['Kaprodi 2'],\n",
        "          'Dosen E' : ['Kaprodi 2'],\n",
        "          'Kaprodi 3' : ['Warek 2', 'Dosen F', 'Dosen G'],\n",
        "          'Dosen F' : ['Kaprodi 3'],\n",
        "          'Dosen G' : ['Kaprodi 3']}"
      ],
      "metadata": {
        "id": "KqqkGVP6z_Zo"
      },
      "execution_count": null,
      "outputs": []
    },
    {
      "cell_type": "code",
      "source": [
        "bfs(graph2, 'Rektor')"
      ],
      "metadata": {
        "colab": {
          "base_uri": "https://localhost:8080/"
        },
        "id": "mLuf1Q8D1B_w",
        "outputId": "e19c28ea-4f7e-4c9a-d303-39e23ae380e1"
      },
      "execution_count": null,
      "outputs": [
        {
          "output_type": "execute_result",
          "data": {
            "text/plain": [
              "['Rektor',\n",
              " 'Warek 1',\n",
              " 'Warek 2',\n",
              " 'Kaprodi 1',\n",
              " 'Kaprodi 2',\n",
              " 'Kaprodi 3',\n",
              " 'Dosen A',\n",
              " 'Dosen B',\n",
              " 'Dosen C',\n",
              " 'Dosen D',\n",
              " 'Dosen E',\n",
              " 'Dosen F',\n",
              " 'Dosen G']"
            ]
          },
          "metadata": {},
          "execution_count": 9
        }
      ]
    },
    {
      "cell_type": "code",
      "source": [
        "bfs(graph2, 'Warek 1')"
      ],
      "metadata": {
        "colab": {
          "base_uri": "https://localhost:8080/"
        },
        "id": "ZiI5XYmM1JAW",
        "outputId": "2e7db1a6-f453-4b14-ce79-62a42f78cfbb"
      },
      "execution_count": null,
      "outputs": [
        {
          "output_type": "execute_result",
          "data": {
            "text/plain": [
              "['Warek 1',\n",
              " 'Rektor',\n",
              " 'Warek 2',\n",
              " 'Kaprodi 1',\n",
              " 'Kaprodi 2',\n",
              " 'Kaprodi 3',\n",
              " 'Dosen A',\n",
              " 'Dosen B',\n",
              " 'Dosen C',\n",
              " 'Dosen D',\n",
              " 'Dosen E',\n",
              " 'Dosen F',\n",
              " 'Dosen G']"
            ]
          },
          "metadata": {},
          "execution_count": 13
        }
      ]
    },
    {
      "cell_type": "code",
      "source": [
        "bfs(graph2, 'Dosen F')"
      ],
      "metadata": {
        "colab": {
          "base_uri": "https://localhost:8080/"
        },
        "id": "IdH2MHcp28VE",
        "outputId": "211f4087-716f-4802-9337-7817678e81b6"
      },
      "execution_count": null,
      "outputs": [
        {
          "output_type": "execute_result",
          "data": {
            "text/plain": [
              "['Dosen F',\n",
              " 'Kaprodi 3',\n",
              " 'Warek 2',\n",
              " 'Dosen G',\n",
              " 'Rektor',\n",
              " 'Kaprodi 1',\n",
              " 'Kaprodi 2',\n",
              " 'Warek 1',\n",
              " 'Dosen A',\n",
              " 'Dosen B',\n",
              " 'Dosen C',\n",
              " 'Dosen D',\n",
              " 'Dosen E']"
            ]
          },
          "metadata": {},
          "execution_count": 14
        }
      ]
    },
    {
      "cell_type": "code",
      "source": [
        "bfs(graph2, 'Kaprodi 1')"
      ],
      "metadata": {
        "id": "tTsH_g6Q163u",
        "colab": {
          "base_uri": "https://localhost:8080/"
        },
        "outputId": "6f1495f4-b0d1-4ea8-9fef-c0f3e87f4cb7"
      },
      "execution_count": null,
      "outputs": [
        {
          "output_type": "execute_result",
          "data": {
            "text/plain": [
              "['Kaprodi 1',\n",
              " 'Warek 2',\n",
              " 'Dosen A',\n",
              " 'Dosen B',\n",
              " 'Dosen C',\n",
              " 'Rektor',\n",
              " 'Kaprodi 2',\n",
              " 'Kaprodi 3',\n",
              " 'Warek 1',\n",
              " 'Dosen D',\n",
              " 'Dosen E',\n",
              " 'Dosen F',\n",
              " 'Dosen G']"
            ]
          },
          "metadata": {},
          "execution_count": 12
        }
      ]
    },
    {
      "cell_type": "code",
      "source": [
        "graph3 = {'10' : {'1', '9'},\n",
        "          '1' : {'10', '8'},\n",
        "          '9' : {'10', '8'},\n",
        "          '8' : {'1', '9', '12'},\n",
        "          '0' : {'9', '7', '11'},\n",
        "          '12' : {'8', '2'},\n",
        "          '2' : {'12', '3'},\n",
        "          '7' : {'0', '11'},\n",
        "          '11' : {'7', '0'},\n",
        "          '3' : {'2', '4', '7'},\n",
        "          '4' : {'3'},\n",
        "          '6' : {'7', '5'},\n",
        "          '5': {'6'}}"
      ],
      "metadata": {
        "id": "tQSlHRmY3gGK"
      },
      "execution_count": null,
      "outputs": []
    },
    {
      "cell_type": "code",
      "source": [
        "bfs(graph3, '10')"
      ],
      "metadata": {
        "colab": {
          "base_uri": "https://localhost:8080/"
        },
        "id": "t7ummoGs9d3S",
        "outputId": "02f8af1c-a84f-45b0-bf26-6e0c80086df9"
      },
      "execution_count": null,
      "outputs": [
        {
          "output_type": "execute_result",
          "data": {
            "text/plain": [
              "['10', '1', '9', '8', '12', '2', '3', '7', '4', '11', '0']"
            ]
          },
          "metadata": {},
          "execution_count": 19
        }
      ]
    },
    {
      "cell_type": "code",
      "source": [
        "bfs(graph3, '6')"
      ],
      "metadata": {
        "colab": {
          "base_uri": "https://localhost:8080/"
        },
        "id": "2vHCyuxyT8D1",
        "outputId": "c3159c39-f203-41a2-e650-c9903148b3ce"
      },
      "execution_count": 20,
      "outputs": [
        {
          "output_type": "execute_result",
          "data": {
            "text/plain": [
              "['6', '7', '5', '11', '0', '9', '8', '10', '1', '12', '2', '3', '4']"
            ]
          },
          "metadata": {},
          "execution_count": 20
        }
      ]
    },
    {
      "cell_type": "code",
      "source": [
        "bfs(graph3, '2')"
      ],
      "metadata": {
        "colab": {
          "base_uri": "https://localhost:8080/"
        },
        "id": "EjVU8_qMT-g9",
        "outputId": "6f67ae10-ec93-40f3-e429-b0de4e4e6577"
      },
      "execution_count": 21,
      "outputs": [
        {
          "output_type": "execute_result",
          "data": {
            "text/plain": [
              "['2', '12', '3', '8', '7', '4', '1', '9', '11', '0', '10']"
            ]
          },
          "metadata": {},
          "execution_count": 21
        }
      ]
    }
  ]
}