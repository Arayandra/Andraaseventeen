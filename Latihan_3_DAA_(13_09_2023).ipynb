{
  "nbformat": 4,
  "nbformat_minor": 0,
  "metadata": {
    "colab": {
      "provenance": [],
      "authorship_tag": "ABX9TyO4SIMDzE+Yg/GtISFZDJqF",
      "include_colab_link": true
    },
    "kernelspec": {
      "name": "python3",
      "display_name": "Python 3"
    },
    "language_info": {
      "name": "python"
    }
  },
  "cells": [
    {
      "cell_type": "markdown",
      "metadata": {
        "id": "view-in-github",
        "colab_type": "text"
      },
      "source": [
        "<a href=\"https://colab.research.google.com/github/Arayandra/Andraaseventeen/blob/main/Latihan_3_DAA_(13_09_2023).ipynb\" target=\"_parent\"><img src=\"https://colab.research.google.com/assets/colab-badge.svg\" alt=\"Open In Colab\"/></a>"
      ]
    },
    {
      "cell_type": "code",
      "execution_count": 154,
      "metadata": {
        "colab": {
          "base_uri": "https://localhost:8080/"
        },
        "id": "gMSvRZIJI4C9",
        "outputId": "73b69c2c-0851-4182-b71e-cf9798c6266f"
      },
      "outputs": [
        {
          "output_type": "stream",
          "name": "stdout",
          "text": [
            "['Advani Rayandra Kahfi', '2022071007', 'Informatika', 'Desain Analisis dan Algoritma', '13-09-23', 'Universitas Pembangunan Jaya']\n"
          ]
        }
      ],
      "source": [
        "import datetime\n",
        "Tanggal = datetime.date.today()\n",
        "Mahasiswa = [\"Advani Rayandra Kahfi\", \"2022071007\", \"Informatika\", \"Desain Analisis dan Algoritma\", Tanggal.strftime(\"%d-%m-%y\") ,\"Universitas Pembangunan Jaya\"]\n",
        "\n",
        "print (Mahasiswa)"
      ]
    },
    {
      "cell_type": "code",
      "source": [
        "print(\"NIM : \", Mahasiswa[1])"
      ],
      "metadata": {
        "colab": {
          "base_uri": "https://localhost:8080/"
        },
        "id": "IWVJhc7JMFKQ",
        "outputId": "9fff8fb0-eaad-4c58-8737-302ed951e88a"
      },
      "execution_count": 155,
      "outputs": [
        {
          "output_type": "stream",
          "name": "stdout",
          "text": [
            "NIM :  2022071007\n"
          ]
        }
      ]
    },
    {
      "cell_type": "code",
      "source": [
        "print(\"Nama Universitas : \",Mahasiswa[-1] )"
      ],
      "metadata": {
        "colab": {
          "base_uri": "https://localhost:8080/"
        },
        "id": "tUGM7K-UNFWW",
        "outputId": "04dc255e-a011-463a-f5fc-647b1258b678"
      },
      "execution_count": 156,
      "outputs": [
        {
          "output_type": "stream",
          "name": "stdout",
          "text": [
            "Nama Universitas :  Universitas Pembangunan Jaya\n"
          ]
        }
      ]
    },
    {
      "cell_type": "code",
      "source": [
        "print(\"NIM dan Prodi : \", Mahasiswa[1:3])\n",
        "#Untuk print dari indeks yang ditentuin pertama sampai indeks sebelum angka yang ditentukan"
      ],
      "metadata": {
        "colab": {
          "base_uri": "https://localhost:8080/"
        },
        "id": "oxeEkmakM5m4",
        "outputId": "384e3db8-565f-454f-d472-35ab7a2d0af1"
      },
      "execution_count": 157,
      "outputs": [
        {
          "output_type": "stream",
          "name": "stdout",
          "text": [
            "NIM dan Prodi :  ['2022071007', 'Informatika']\n"
          ]
        }
      ]
    },
    {
      "cell_type": "code",
      "source": [
        "print(\"Nama Mahasiswa dan NIM : \", Mahasiswa[0:2])"
      ],
      "metadata": {
        "colab": {
          "base_uri": "https://localhost:8080/"
        },
        "id": "KHvUWc1YN3Lx",
        "outputId": "232df6e4-c23b-4a22-c06a-aa9218b06785"
      },
      "execution_count": 158,
      "outputs": [
        {
          "output_type": "stream",
          "name": "stdout",
          "text": [
            "Nama Mahasiswa dan NIM :  ['Advani Rayandra Kahfi', '2022071007']\n"
          ]
        }
      ]
    },
    {
      "cell_type": "code",
      "source": [
        "for Awikwok_jawir in Mahasiswa:\n",
        "  print(\"UPJ \" + Awikwok_jawir)"
      ],
      "metadata": {
        "colab": {
          "base_uri": "https://localhost:8080/"
        },
        "id": "IjnWB_LzPXhM",
        "outputId": "b6f2b5f3-5899-4c9b-8838-1e052149bc4d"
      },
      "execution_count": 159,
      "outputs": [
        {
          "output_type": "stream",
          "name": "stdout",
          "text": [
            "UPJ Advani Rayandra Kahfi\n",
            "UPJ 2022071007\n",
            "UPJ Informatika\n",
            "UPJ Desain Analisis dan Algoritma\n",
            "UPJ 13-09-23\n",
            "UPJ Universitas Pembangunan Jaya\n"
          ]
        }
      ]
    },
    {
      "cell_type": "code",
      "source": [
        "bin_Mahasiswa = [\"Najib\", \"Fahmi\", \"Daffa\", \"Natan\"]\n",
        "\n",
        "for aMahasiswa in bin_Mahasiswa:\n",
        "  print(aMahasiswa + \" Jawir\")"
      ],
      "metadata": {
        "colab": {
          "base_uri": "https://localhost:8080/"
        },
        "id": "SyqwPfbtYaLx",
        "outputId": "944f689a-d2f4-4ae7-ab40-9fda8b4fb1fb"
      },
      "execution_count": 160,
      "outputs": [
        {
          "output_type": "stream",
          "name": "stdout",
          "text": [
            "Najib Jawir\n",
            "Fahmi Jawir\n",
            "Daffa Jawir\n",
            "Natan Jawir\n"
          ]
        }
      ]
    },
    {
      "cell_type": "code",
      "source": [
        "for BangJago in Mahasiswa:\n",
        "  #print(\"UPJ\" + BangJago)\n",
        "  print(type(BangJago))"
      ],
      "metadata": {
        "colab": {
          "base_uri": "https://localhost:8080/"
        },
        "id": "ai3KpZyaZDuE",
        "outputId": "d8721e35-53d4-4904-fcca-4117247901de"
      },
      "execution_count": 161,
      "outputs": [
        {
          "output_type": "stream",
          "name": "stdout",
          "text": [
            "<class 'str'>\n",
            "<class 'str'>\n",
            "<class 'str'>\n",
            "<class 'str'>\n",
            "<class 'str'>\n",
            "<class 'str'>\n"
          ]
        }
      ]
    },
    {
      "cell_type": "code",
      "source": [
        "UPJ = (\"Universitas\", \"Pembangunan\", \"Jaya\")\n",
        "\n",
        "print(UPJ)"
      ],
      "metadata": {
        "colab": {
          "base_uri": "https://localhost:8080/"
        },
        "id": "th27jwDNQK9-",
        "outputId": "b6ce1cca-f8b0-4c32-db46-1bc37c46c4cb"
      },
      "execution_count": 162,
      "outputs": [
        {
          "output_type": "stream",
          "name": "stdout",
          "text": [
            "('Universitas', 'Pembangunan', 'Jaya')\n"
          ]
        }
      ]
    },
    {
      "cell_type": "code",
      "source": [
        "bin_colors=('Red','Green','Blue','Yellow')\n",
        "bin_colors[1]"
      ],
      "metadata": {
        "colab": {
          "base_uri": "https://localhost:8080/",
          "height": 35
        },
        "id": "yde99pTIeXlD",
        "outputId": "793a71a6-6d48-4567-cee2-833cd109dcf7"
      },
      "execution_count": 163,
      "outputs": [
        {
          "output_type": "execute_result",
          "data": {
            "text/plain": [
              "'Green'"
            ],
            "application/vnd.google.colaboratory.intrinsic+json": {
              "type": "string"
            }
          },
          "metadata": {},
          "execution_count": 163
        }
      ]
    },
    {
      "cell_type": "code",
      "source": [
        "bin_colors=('Red','Green','Blue','Yellow')\n",
        "bin_colors[2:]"
      ],
      "metadata": {
        "colab": {
          "base_uri": "https://localhost:8080/"
        },
        "id": "bwbNNAeNem8B",
        "outputId": "3c4e34ba-baf6-4a9b-c7c3-e57b2019e95c"
      },
      "execution_count": 164,
      "outputs": [
        {
          "output_type": "execute_result",
          "data": {
            "text/plain": [
              "('Blue', 'Yellow')"
            ]
          },
          "metadata": {},
          "execution_count": 164
        }
      ]
    },
    {
      "cell_type": "code",
      "source": [
        "hariAwal = (\"senin\",\"selasa\",\"rabu\")\n",
        "hariAkhir = (\"kamis\",\"jumat\",\"sabtu\")\n",
        "\n",
        "hari = (hariAwal, hariAkhir)\n",
        "print(hari)"
      ],
      "metadata": {
        "colab": {
          "base_uri": "https://localhost:8080/"
        },
        "id": "nJizP4Dlz7Mu",
        "outputId": "8ddd96f9-7ec0-4643-d933-849d9ce07fba"
      },
      "execution_count": 179,
      "outputs": [
        {
          "output_type": "stream",
          "name": "stdout",
          "text": [
            "(('senin', 'selasa', 'rabu'), ('kamis', 'jumat', 'sabtu'))\n"
          ]
        }
      ]
    },
    {
      "cell_type": "code",
      "source": [
        "Pertama = (\"100\")\n",
        "Kedua = (\"200\", \"400\", \"600\")\n",
        "Ketiga = (\"300\")\n",
        "Keempat = (\"400\", \"800\")\n",
        "\n",
        "Hitungan = Pertama, Kedua, Ketiga, Keempat\n",
        "print(Hitungan)\n",
        "\n"
      ],
      "metadata": {
        "colab": {
          "base_uri": "https://localhost:8080/"
        },
        "id": "Gd5v6nLWQlsL",
        "outputId": "092ef77d-225c-4573-8170-491ec7d37715"
      },
      "execution_count": 165,
      "outputs": [
        {
          "output_type": "stream",
          "name": "stdout",
          "text": [
            "('100', ('200', '400', '600'), '300', ('400', '800'))\n"
          ]
        }
      ]
    },
    {
      "cell_type": "code",
      "source": [
        "bin_colors ={\n",
        "\"manual_color\": \"Yellow\",\n",
        "\"approved_color\": \"Green\",\n",
        "\"refused_color\": \"Red\"\n",
        "}\n",
        "print(bin_colors)\n"
      ],
      "metadata": {
        "colab": {
          "base_uri": "https://localhost:8080/"
        },
        "id": "MYteCpjSe0X5",
        "outputId": "f7d6431b-72c5-4c1a-ac92-a8f1f63dbbd5"
      },
      "execution_count": 166,
      "outputs": [
        {
          "output_type": "stream",
          "name": "stdout",
          "text": [
            "{'manual_color': 'Yellow', 'approved_color': 'Green', 'refused_color': 'Red'}\n"
          ]
        }
      ]
    },
    {
      "cell_type": "code",
      "source": [
        "bin_colors.get('approved_color')\n",
        "bin_colors['approved_color']\n"
      ],
      "metadata": {
        "colab": {
          "base_uri": "https://localhost:8080/",
          "height": 35
        },
        "id": "Vo7VDiNre6k1",
        "outputId": "4178dab4-18f6-46a3-e35e-b4d10013d42c"
      },
      "execution_count": 167,
      "outputs": [
        {
          "output_type": "execute_result",
          "data": {
            "text/plain": [
              "'Green'"
            ],
            "application/vnd.google.colaboratory.intrinsic+json": {
              "type": "string"
            }
          },
          "metadata": {},
          "execution_count": 167
        }
      ]
    },
    {
      "cell_type": "code",
      "source": [
        "bin_colors['approved_color']=\"Purple\"\n",
        "print(bin_colors)"
      ],
      "metadata": {
        "colab": {
          "base_uri": "https://localhost:8080/"
        },
        "id": "AYrcd0RnfDVq",
        "outputId": "1573e446-4047-476d-f5e5-e79abe46464f"
      },
      "execution_count": 168,
      "outputs": [
        {
          "output_type": "stream",
          "name": "stdout",
          "text": [
            "{'manual_color': 'Yellow', 'approved_color': 'Purple', 'refused_color': 'Red'}\n"
          ]
        }
      ]
    },
    {
      "cell_type": "code",
      "source": [
        "dictMahasiswa = {\"Nama\" : \"Advani Rayandra Kahfi\", \"NIM\" : \"2022071007\", \"Prodi\" : \"Informatika\", \"Universitas\" : \"Universitas Pembangunan Jaya\"}\n",
        "\n",
        "print(dictMahasiswa)"
      ],
      "metadata": {
        "colab": {
          "base_uri": "https://localhost:8080/"
        },
        "id": "i3tg0AVmRyV2",
        "outputId": "46a0f3f7-a31f-428d-f8bf-34b1af69fc42"
      },
      "execution_count": 169,
      "outputs": [
        {
          "output_type": "stream",
          "name": "stdout",
          "text": [
            "{'Nama': 'Advani Rayandra Kahfi', 'NIM': '2022071007', 'Prodi': 'Informatika', 'Universitas': 'Universitas Pembangunan Jaya'}\n"
          ]
        }
      ]
    },
    {
      "cell_type": "code",
      "source": [
        "dictMahasiswa = {\"Nama\" : \"Advani Rayandra Kahfi\", \"NIM\" : \"2022071007\", \"Prodi\" : \"Informatika\", \"Universitas\" : \"Universitas Pembangunan Jaya\"}\n",
        "\n",
        "print(dictMahasiswa)\n",
        "print(dictMahasiswa  [\"Nama\"])"
      ],
      "metadata": {
        "colab": {
          "base_uri": "https://localhost:8080/"
        },
        "id": "0CnkwPEKVyj2",
        "outputId": "df24ad4d-d5e8-4734-8dde-aa33ff1ff83b"
      },
      "execution_count": 170,
      "outputs": [
        {
          "output_type": "stream",
          "name": "stdout",
          "text": [
            "{'Nama': 'Advani Rayandra Kahfi', 'NIM': '2022071007', 'Prodi': 'Informatika', 'Universitas': 'Universitas Pembangunan Jaya'}\n",
            "Advani Rayandra Kahfi\n"
          ]
        }
      ]
    },
    {
      "cell_type": "code",
      "source": [
        "dictMahasiswa = {\"Nama\" : \"Advani Rayandra Kahfi\",\"Nama\" : \"Advani Rayandra Kahfi\",\"NIM\" : \"2022071007\", \"Prodi\" : \"Informatika\", \"Universitas\" : \"Universitas Pembangunan Jaya\",\"Universitas\" : \"Universitas Pembangunan Jaya\"}\n",
        "\n",
        "print(dictMahasiswa)"
      ],
      "metadata": {
        "colab": {
          "base_uri": "https://localhost:8080/"
        },
        "id": "RWXP49-qWXME",
        "outputId": "25e35e16-97e8-487a-8696-dae87e0fdcf0"
      },
      "execution_count": 171,
      "outputs": [
        {
          "output_type": "stream",
          "name": "stdout",
          "text": [
            "{'Nama': 'Advani Rayandra Kahfi', 'NIM': '2022071007', 'Prodi': 'Informatika', 'Universitas': 'Universitas Pembangunan Jaya'}\n"
          ]
        }
      ]
    },
    {
      "cell_type": "code",
      "source": [
        "#Inisiasi Set\n",
        "set_01 = {4,5,6,2}\n",
        "print(set_01)\n",
        "\n",
        "#inisiasi mengubah list menjadi set\n",
        "set_02 = set()\n",
        "set_03 = set([2,1,4,3])\n",
        "print(type(set_02))\n",
        "print(set_03)\n",
        "\n",
        "#Menghapus set\n",
        "set_01.discard(5)\n",
        "print(set_01)\n",
        "\n",
        "#Menambah set\n",
        "set_04 = {2,3,4,5,6}\n",
        "set_04.add(1)\n",
        "print(set_04)\n",
        "\n",
        "#set yang sudah dihapus tidak akan muncul walaupun sudah ditambahkan dengan angka yg lain\n",
        "set_01.add(1)\n",
        "print(set_01)\n",
        "\n",
        "\n"
      ],
      "metadata": {
        "colab": {
          "base_uri": "https://localhost:8080/"
        },
        "id": "6K2z_3Gpbovc",
        "outputId": "03fb7595-234e-41cd-e36b-8fcef3ca175b"
      },
      "execution_count": 172,
      "outputs": [
        {
          "output_type": "stream",
          "name": "stdout",
          "text": [
            "{2, 4, 5, 6}\n",
            "<class 'set'>\n",
            "{1, 2, 3, 4}\n",
            "{2, 4, 6}\n",
            "{1, 2, 3, 4, 5, 6}\n",
            "{1, 2, 4, 6}\n"
          ]
        }
      ]
    },
    {
      "cell_type": "code",
      "source": [
        "set_04= {1, 2, 3, 4, 5, 6, 7, 8}\n",
        "set_04.discard(4)#hapus nilai 4\n",
        "print(set_04)\n",
        "\n",
        "set_04.add(10) #menambahkan nilai 10\n",
        "print(set_04)\n"
      ],
      "metadata": {
        "colab": {
          "base_uri": "https://localhost:8080/"
        },
        "id": "6gN7b1KmbtPw",
        "outputId": "7ed8952a-ee3a-4e0e-974d-27c7bad10ae5"
      },
      "execution_count": 173,
      "outputs": [
        {
          "output_type": "stream",
          "name": "stdout",
          "text": [
            "{1, 2, 3, 5, 6, 7, 8}\n",
            "{1, 2, 3, 5, 6, 7, 8, 10}\n"
          ]
        }
      ]
    },
    {
      "cell_type": "code",
      "source": [
        "#Union set\n",
        "set_A = {1,2,3,4}\n",
        "set_B = {3,4,5,6}\n",
        "#Cara 1\n",
        "print(set_A|set_B)\n",
        "#Cara 2\n",
        "print(set_A.union(set_B))\n",
        "\n",
        "#Intersection (Irisan)\n",
        "#Cara 1\n",
        "print(set_A & set_B)\n",
        "#Cara 2\n",
        "print(set_A.intersection(set_B))\n",
        "\n",
        "#Difference set\n",
        "#A - B\n",
        "#Cara 1\n",
        "print(set_A - set_B)\n",
        "#Cara 2\n",
        "print(set_A.difference(set_B))\n",
        "\n",
        "#B - A\n",
        "#Cara 1\n",
        "print(set_B - set_A)\n",
        "#Cara 2\n",
        "print(set_B.difference(set_A))\n",
        "\n",
        "#Symmetric Difference\n",
        "#Cara 1\n",
        "print(set_A ^ set_B)\n",
        "#Cara 2\n",
        "print(set_A.symmetric_difference(set_B))\n",
        "\n"
      ],
      "metadata": {
        "colab": {
          "base_uri": "https://localhost:8080/"
        },
        "id": "yb40vwWXd5AG",
        "outputId": "bd9b12cb-d140-45d1-c026-b7fcd5fded0c"
      },
      "execution_count": 174,
      "outputs": [
        {
          "output_type": "stream",
          "name": "stdout",
          "text": [
            "{1, 2, 3, 4, 5, 6}\n",
            "{1, 2, 3, 4, 5, 6}\n",
            "{3, 4}\n",
            "{3, 4}\n",
            "{1, 2}\n",
            "{1, 2}\n",
            "{5, 6}\n",
            "{5, 6}\n",
            "{1, 2, 5, 6}\n",
            "{1, 2, 5, 6}\n"
          ]
        }
      ]
    },
    {
      "cell_type": "code",
      "source": [
        "#Menyusun red dan green\n",
        "Red = {\"dandelions\", \"fire hydrant\", \"leaves\"}\n",
        "Green = {\"leaves\",\"fire hydrant\", \"rose\", \"blood\"}\n",
        "\n",
        "print(Green|Red)\n",
        "print(Green&Red)"
      ],
      "metadata": {
        "id": "4k9yvkkYfjp6",
        "colab": {
          "base_uri": "https://localhost:8080/"
        },
        "outputId": "969840c6-ab82-4215-e792-5a84d3ff9ebc"
      },
      "execution_count": 175,
      "outputs": [
        {
          "output_type": "stream",
          "name": "stdout",
          "text": [
            "{'rose', 'blood', 'dandelions', 'leaves', 'fire hydrant'}\n",
            "{'leaves', 'fire hydrant'}\n"
          ]
        }
      ]
    },
    {
      "cell_type": "code",
      "source": [
        "#Buat database\n",
        "import pandas as pd\n",
        "\n",
        "data = {'satu': [1,1,1,1,1],\n",
        "        'dua' : [2,2,2,2,2],\n",
        "        'tiga': [3,3,3,3,3]}\n",
        "\n",
        "df = pd.DataFrame(data, index=['a','b','c','d','e'])\n",
        "\n",
        "df.head()\n"
      ],
      "metadata": {
        "colab": {
          "base_uri": "https://localhost:8080/",
          "height": 206
        },
        "id": "_cBZ4boIl7iK",
        "outputId": "ed91dd55-62e6-4698-c970-ab20afdafa7c"
      },
      "execution_count": 176,
      "outputs": [
        {
          "output_type": "execute_result",
          "data": {
            "text/plain": [
              "   satu  dua  tiga\n",
              "a     1    2     3\n",
              "b     1    2     3\n",
              "c     1    2     3\n",
              "d     1    2     3\n",
              "e     1    2     3"
            ],
            "text/html": [
              "\n",
              "  <div id=\"df-34b4ecb2-5f88-4e08-bb1f-6ca17e73a674\" class=\"colab-df-container\">\n",
              "    <div>\n",
              "<style scoped>\n",
              "    .dataframe tbody tr th:only-of-type {\n",
              "        vertical-align: middle;\n",
              "    }\n",
              "\n",
              "    .dataframe tbody tr th {\n",
              "        vertical-align: top;\n",
              "    }\n",
              "\n",
              "    .dataframe thead th {\n",
              "        text-align: right;\n",
              "    }\n",
              "</style>\n",
              "<table border=\"1\" class=\"dataframe\">\n",
              "  <thead>\n",
              "    <tr style=\"text-align: right;\">\n",
              "      <th></th>\n",
              "      <th>satu</th>\n",
              "      <th>dua</th>\n",
              "      <th>tiga</th>\n",
              "    </tr>\n",
              "  </thead>\n",
              "  <tbody>\n",
              "    <tr>\n",
              "      <th>a</th>\n",
              "      <td>1</td>\n",
              "      <td>2</td>\n",
              "      <td>3</td>\n",
              "    </tr>\n",
              "    <tr>\n",
              "      <th>b</th>\n",
              "      <td>1</td>\n",
              "      <td>2</td>\n",
              "      <td>3</td>\n",
              "    </tr>\n",
              "    <tr>\n",
              "      <th>c</th>\n",
              "      <td>1</td>\n",
              "      <td>2</td>\n",
              "      <td>3</td>\n",
              "    </tr>\n",
              "    <tr>\n",
              "      <th>d</th>\n",
              "      <td>1</td>\n",
              "      <td>2</td>\n",
              "      <td>3</td>\n",
              "    </tr>\n",
              "    <tr>\n",
              "      <th>e</th>\n",
              "      <td>1</td>\n",
              "      <td>2</td>\n",
              "      <td>3</td>\n",
              "    </tr>\n",
              "  </tbody>\n",
              "</table>\n",
              "</div>\n",
              "    <div class=\"colab-df-buttons\">\n",
              "\n",
              "  <div class=\"colab-df-container\">\n",
              "    <button class=\"colab-df-convert\" onclick=\"convertToInteractive('df-34b4ecb2-5f88-4e08-bb1f-6ca17e73a674')\"\n",
              "            title=\"Convert this dataframe to an interactive table.\"\n",
              "            style=\"display:none;\">\n",
              "\n",
              "  <svg xmlns=\"http://www.w3.org/2000/svg\" height=\"24px\" viewBox=\"0 -960 960 960\">\n",
              "    <path d=\"M120-120v-720h720v720H120Zm60-500h600v-160H180v160Zm220 220h160v-160H400v160Zm0 220h160v-160H400v160ZM180-400h160v-160H180v160Zm440 0h160v-160H620v160ZM180-180h160v-160H180v160Zm440 0h160v-160H620v160Z\"/>\n",
              "  </svg>\n",
              "    </button>\n",
              "\n",
              "  <style>\n",
              "    .colab-df-container {\n",
              "      display:flex;\n",
              "      gap: 12px;\n",
              "    }\n",
              "\n",
              "    .colab-df-convert {\n",
              "      background-color: #E8F0FE;\n",
              "      border: none;\n",
              "      border-radius: 50%;\n",
              "      cursor: pointer;\n",
              "      display: none;\n",
              "      fill: #1967D2;\n",
              "      height: 32px;\n",
              "      padding: 0 0 0 0;\n",
              "      width: 32px;\n",
              "    }\n",
              "\n",
              "    .colab-df-convert:hover {\n",
              "      background-color: #E2EBFA;\n",
              "      box-shadow: 0px 1px 2px rgba(60, 64, 67, 0.3), 0px 1px 3px 1px rgba(60, 64, 67, 0.15);\n",
              "      fill: #174EA6;\n",
              "    }\n",
              "\n",
              "    .colab-df-buttons div {\n",
              "      margin-bottom: 4px;\n",
              "    }\n",
              "\n",
              "    [theme=dark] .colab-df-convert {\n",
              "      background-color: #3B4455;\n",
              "      fill: #D2E3FC;\n",
              "    }\n",
              "\n",
              "    [theme=dark] .colab-df-convert:hover {\n",
              "      background-color: #434B5C;\n",
              "      box-shadow: 0px 1px 3px 1px rgba(0, 0, 0, 0.15);\n",
              "      filter: drop-shadow(0px 1px 2px rgba(0, 0, 0, 0.3));\n",
              "      fill: #FFFFFF;\n",
              "    }\n",
              "  </style>\n",
              "\n",
              "    <script>\n",
              "      const buttonEl =\n",
              "        document.querySelector('#df-34b4ecb2-5f88-4e08-bb1f-6ca17e73a674 button.colab-df-convert');\n",
              "      buttonEl.style.display =\n",
              "        google.colab.kernel.accessAllowed ? 'block' : 'none';\n",
              "\n",
              "      async function convertToInteractive(key) {\n",
              "        const element = document.querySelector('#df-34b4ecb2-5f88-4e08-bb1f-6ca17e73a674');\n",
              "        const dataTable =\n",
              "          await google.colab.kernel.invokeFunction('convertToInteractive',\n",
              "                                                    [key], {});\n",
              "        if (!dataTable) return;\n",
              "\n",
              "        const docLinkHtml = 'Like what you see? Visit the ' +\n",
              "          '<a target=\"_blank\" href=https://colab.research.google.com/notebooks/data_table.ipynb>data table notebook</a>'\n",
              "          + ' to learn more about interactive tables.';\n",
              "        element.innerHTML = '';\n",
              "        dataTable['output_type'] = 'display_data';\n",
              "        await google.colab.output.renderOutput(dataTable, element);\n",
              "        const docLink = document.createElement('div');\n",
              "        docLink.innerHTML = docLinkHtml;\n",
              "        element.appendChild(docLink);\n",
              "      }\n",
              "    </script>\n",
              "  </div>\n",
              "\n",
              "\n",
              "<div id=\"df-28a928d1-a12c-4aca-a230-438741551e98\">\n",
              "  <button class=\"colab-df-quickchart\" onclick=\"quickchart('df-28a928d1-a12c-4aca-a230-438741551e98')\"\n",
              "            title=\"Suggest charts.\"\n",
              "            style=\"display:none;\">\n",
              "\n",
              "<svg xmlns=\"http://www.w3.org/2000/svg\" height=\"24px\"viewBox=\"0 0 24 24\"\n",
              "     width=\"24px\">\n",
              "    <g>\n",
              "        <path d=\"M19 3H5c-1.1 0-2 .9-2 2v14c0 1.1.9 2 2 2h14c1.1 0 2-.9 2-2V5c0-1.1-.9-2-2-2zM9 17H7v-7h2v7zm4 0h-2V7h2v10zm4 0h-2v-4h2v4z\"/>\n",
              "    </g>\n",
              "</svg>\n",
              "  </button>\n",
              "\n",
              "<style>\n",
              "  .colab-df-quickchart {\n",
              "      --bg-color: #E8F0FE;\n",
              "      --fill-color: #1967D2;\n",
              "      --hover-bg-color: #E2EBFA;\n",
              "      --hover-fill-color: #174EA6;\n",
              "      --disabled-fill-color: #AAA;\n",
              "      --disabled-bg-color: #DDD;\n",
              "  }\n",
              "\n",
              "  [theme=dark] .colab-df-quickchart {\n",
              "      --bg-color: #3B4455;\n",
              "      --fill-color: #D2E3FC;\n",
              "      --hover-bg-color: #434B5C;\n",
              "      --hover-fill-color: #FFFFFF;\n",
              "      --disabled-bg-color: #3B4455;\n",
              "      --disabled-fill-color: #666;\n",
              "  }\n",
              "\n",
              "  .colab-df-quickchart {\n",
              "    background-color: var(--bg-color);\n",
              "    border: none;\n",
              "    border-radius: 50%;\n",
              "    cursor: pointer;\n",
              "    display: none;\n",
              "    fill: var(--fill-color);\n",
              "    height: 32px;\n",
              "    padding: 0;\n",
              "    width: 32px;\n",
              "  }\n",
              "\n",
              "  .colab-df-quickchart:hover {\n",
              "    background-color: var(--hover-bg-color);\n",
              "    box-shadow: 0 1px 2px rgba(60, 64, 67, 0.3), 0 1px 3px 1px rgba(60, 64, 67, 0.15);\n",
              "    fill: var(--button-hover-fill-color);\n",
              "  }\n",
              "\n",
              "  .colab-df-quickchart-complete:disabled,\n",
              "  .colab-df-quickchart-complete:disabled:hover {\n",
              "    background-color: var(--disabled-bg-color);\n",
              "    fill: var(--disabled-fill-color);\n",
              "    box-shadow: none;\n",
              "  }\n",
              "\n",
              "  .colab-df-spinner {\n",
              "    border: 2px solid var(--fill-color);\n",
              "    border-color: transparent;\n",
              "    border-bottom-color: var(--fill-color);\n",
              "    animation:\n",
              "      spin 1s steps(1) infinite;\n",
              "  }\n",
              "\n",
              "  @keyframes spin {\n",
              "    0% {\n",
              "      border-color: transparent;\n",
              "      border-bottom-color: var(--fill-color);\n",
              "      border-left-color: var(--fill-color);\n",
              "    }\n",
              "    20% {\n",
              "      border-color: transparent;\n",
              "      border-left-color: var(--fill-color);\n",
              "      border-top-color: var(--fill-color);\n",
              "    }\n",
              "    30% {\n",
              "      border-color: transparent;\n",
              "      border-left-color: var(--fill-color);\n",
              "      border-top-color: var(--fill-color);\n",
              "      border-right-color: var(--fill-color);\n",
              "    }\n",
              "    40% {\n",
              "      border-color: transparent;\n",
              "      border-right-color: var(--fill-color);\n",
              "      border-top-color: var(--fill-color);\n",
              "    }\n",
              "    60% {\n",
              "      border-color: transparent;\n",
              "      border-right-color: var(--fill-color);\n",
              "    }\n",
              "    80% {\n",
              "      border-color: transparent;\n",
              "      border-right-color: var(--fill-color);\n",
              "      border-bottom-color: var(--fill-color);\n",
              "    }\n",
              "    90% {\n",
              "      border-color: transparent;\n",
              "      border-bottom-color: var(--fill-color);\n",
              "    }\n",
              "  }\n",
              "</style>\n",
              "\n",
              "  <script>\n",
              "    async function quickchart(key) {\n",
              "      const quickchartButtonEl =\n",
              "        document.querySelector('#' + key + ' button');\n",
              "      quickchartButtonEl.disabled = true;  // To prevent multiple clicks.\n",
              "      quickchartButtonEl.classList.add('colab-df-spinner');\n",
              "      try {\n",
              "        const charts = await google.colab.kernel.invokeFunction(\n",
              "            'suggestCharts', [key], {});\n",
              "      } catch (error) {\n",
              "        console.error('Error during call to suggestCharts:', error);\n",
              "      }\n",
              "      quickchartButtonEl.classList.remove('colab-df-spinner');\n",
              "      quickchartButtonEl.classList.add('colab-df-quickchart-complete');\n",
              "    }\n",
              "    (() => {\n",
              "      let quickchartButtonEl =\n",
              "        document.querySelector('#df-28a928d1-a12c-4aca-a230-438741551e98 button');\n",
              "      quickchartButtonEl.style.display =\n",
              "        google.colab.kernel.accessAllowed ? 'block' : 'none';\n",
              "    })();\n",
              "  </script>\n",
              "</div>\n",
              "    </div>\n",
              "  </div>\n"
            ]
          },
          "metadata": {},
          "execution_count": 176
        }
      ]
    },
    {
      "cell_type": "code",
      "source": [
        "#Buat database mahasiswa\n",
        "df = pd.DataFrame([[1, \"Informatika\", 50,30,20],\n",
        "        [2, \"Sistem Informasi\", 55,30,25],\n",
        "        [3, \"Teknik Sipil\", 40,30,10]])\n",
        "\n",
        "df.columns = [\"No\", \"Prodi\", \"Mahasiswa\", \"Laki-laki\", \"Perempuan\"]\n",
        "\n",
        "df.style.hide(axis='index')"
      ],
      "metadata": {
        "colab": {
          "base_uri": "https://localhost:8080/",
          "height": 143
        },
        "id": "DPdfEsPonepY",
        "outputId": "e89a5505-bbc5-419e-be2e-e97084be8f75"
      },
      "execution_count": 177,
      "outputs": [
        {
          "output_type": "execute_result",
          "data": {
            "text/plain": [
              "<pandas.io.formats.style.Styler at 0x7a736e356f20>"
            ],
            "text/html": [
              "<style type=\"text/css\">\n",
              "</style>\n",
              "<table id=\"T_7e353\" class=\"dataframe\">\n",
              "  <thead>\n",
              "    <tr>\n",
              "      <th id=\"T_7e353_level0_col0\" class=\"col_heading level0 col0\" >No</th>\n",
              "      <th id=\"T_7e353_level0_col1\" class=\"col_heading level0 col1\" >Prodi</th>\n",
              "      <th id=\"T_7e353_level0_col2\" class=\"col_heading level0 col2\" >Mahasiswa</th>\n",
              "      <th id=\"T_7e353_level0_col3\" class=\"col_heading level0 col3\" >Laki-laki</th>\n",
              "      <th id=\"T_7e353_level0_col4\" class=\"col_heading level0 col4\" >Perempuan</th>\n",
              "    </tr>\n",
              "  </thead>\n",
              "  <tbody>\n",
              "    <tr>\n",
              "      <td id=\"T_7e353_row0_col0\" class=\"data row0 col0\" >1</td>\n",
              "      <td id=\"T_7e353_row0_col1\" class=\"data row0 col1\" >Informatika</td>\n",
              "      <td id=\"T_7e353_row0_col2\" class=\"data row0 col2\" >50</td>\n",
              "      <td id=\"T_7e353_row0_col3\" class=\"data row0 col3\" >30</td>\n",
              "      <td id=\"T_7e353_row0_col4\" class=\"data row0 col4\" >20</td>\n",
              "    </tr>\n",
              "    <tr>\n",
              "      <td id=\"T_7e353_row1_col0\" class=\"data row1 col0\" >2</td>\n",
              "      <td id=\"T_7e353_row1_col1\" class=\"data row1 col1\" >Sistem Informasi</td>\n",
              "      <td id=\"T_7e353_row1_col2\" class=\"data row1 col2\" >55</td>\n",
              "      <td id=\"T_7e353_row1_col3\" class=\"data row1 col3\" >30</td>\n",
              "      <td id=\"T_7e353_row1_col4\" class=\"data row1 col4\" >25</td>\n",
              "    </tr>\n",
              "    <tr>\n",
              "      <td id=\"T_7e353_row2_col0\" class=\"data row2 col0\" >3</td>\n",
              "      <td id=\"T_7e353_row2_col1\" class=\"data row2 col1\" >Teknik Sipil</td>\n",
              "      <td id=\"T_7e353_row2_col2\" class=\"data row2 col2\" >40</td>\n",
              "      <td id=\"T_7e353_row2_col3\" class=\"data row2 col3\" >30</td>\n",
              "      <td id=\"T_7e353_row2_col4\" class=\"data row2 col4\" >10</td>\n",
              "    </tr>\n",
              "  </tbody>\n",
              "</table>\n"
            ]
          },
          "metadata": {},
          "execution_count": 177
        }
      ]
    },
    {
      "cell_type": "code",
      "source": [
        "import numpy as np\n",
        "\n",
        "matrix = np.array([\n",
        "    [100,200,300],\n",
        "    [700,600,500],\n",
        "    [900,1000,800]\n",
        "])\n",
        "\n",
        "print(matrix)\n",
        "\n",
        "print(\"\\ntranspose: \")\n",
        "print(matrix.T)"
      ],
      "metadata": {
        "colab": {
          "base_uri": "https://localhost:8080/"
        },
        "id": "J3-BfpmCqPSo",
        "outputId": "6a04b270-fcfc-40e6-b6be-32b9ead02c56"
      },
      "execution_count": 178,
      "outputs": [
        {
          "output_type": "stream",
          "name": "stdout",
          "text": [
            "[[ 100  200  300]\n",
            " [ 700  600  500]\n",
            " [ 900 1000  800]]\n",
            "\n",
            "transpose: \n",
            "[[ 100  700  900]\n",
            " [ 200  600 1000]\n",
            " [ 300  500  800]]\n"
          ]
        }
      ]
    }
  ]
}