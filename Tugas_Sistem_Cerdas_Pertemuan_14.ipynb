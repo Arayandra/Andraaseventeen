{
  "nbformat": 4,
  "nbformat_minor": 0,
  "metadata": {
    "colab": {
      "provenance": [],
      "authorship_tag": "ABX9TyPqE5z5zqrc9zOER5i3zeFI",
      "include_colab_link": true
    },
    "kernelspec": {
      "name": "python3",
      "display_name": "Python 3"
    },
    "language_info": {
      "name": "python"
    }
  },
  "cells": [
    {
      "cell_type": "markdown",
      "metadata": {
        "id": "view-in-github",
        "colab_type": "text"
      },
      "source": [
        "<a href=\"https://colab.research.google.com/github/Arayandra/Andraaseventeen/blob/main/Tugas_Sistem_Cerdas_Pertemuan_14.ipynb\" target=\"_parent\"><img src=\"https://colab.research.google.com/assets/colab-badge.svg\" alt=\"Open In Colab\"/></a>"
      ]
    },
    {
      "cell_type": "code",
      "execution_count": 1,
      "metadata": {
        "id": "x8Kyt7bpYBKX"
      },
      "outputs": [],
      "source": [
        "# Import library\n",
        "import pandas as pd\n",
        "import numpy as np\n",
        "import tensorflow as tf\n",
        "from tensorflow.keras.models import Model\n",
        "from tensorflow.keras.layers import Input, Embedding, Flatten, Concatenate, Dense\n",
        "from sklearn.model_selection import train_test_split"
      ]
    },
    {
      "cell_type": "code",
      "source": [
        "# Load dataset\n",
        "# Memuat data pengguna, film, dan rating dari dataset MovieLens\n",
        "# Melakukan preprocessing data seperti normalisasi, pembagian data latih dan uji, dll\n",
        "\n",
        "links = pd.read_csv('links.csv')\n",
        "movies = pd.read_csv('movies.csv')\n",
        "tags = pd.read_csv('tags.csv')\n",
        "ratings = pd.read_csv('ratings.csv')\n",
        "\n",
        "# Merge movies and ratings data\n",
        "movies_ratings = pd.merge(ratings, movies, on='movieId')\n",
        "\n",
        "# Mapping user and item IDs to sequential integers\n",
        "user_mapping = {user_id: idx for idx, user_id in enumerate(ratings['userId'].unique())}\n",
        "item_mapping = {item_id: idx for idx, item_id in enumerate(ratings['movieId'].unique())}\n",
        "\n",
        "num_users = len(user_mapping)\n",
        "num_items = len(item_mapping)\n",
        "\n",
        "ratings['user'] = ratings['userId'].map(user_mapping)\n",
        "ratings['item'] = ratings['movieId'].map(item_mapping)\n",
        "\n",
        "train, test = train_test_split(ratings, test_size=0.2, random_state=42)\n",
        "\n",
        "train_user = np.array(train['user'])\n",
        "train_item = np.array(train['item'])\n",
        "train_ratings = np.array(train['rating'])\n",
        "\n",
        "test_user = np.array(test['user'])\n",
        "test_item = np.array(test['item'])\n",
        "test_ratings = np.array(test['rating'])\n"
      ],
      "metadata": {
        "id": "qNLDG90GYwh2"
      },
      "execution_count": 14,
      "outputs": []
    },
    {
      "cell_type": "markdown",
      "source": [
        "# Bagian Baru"
      ],
      "metadata": {
        "id": "t2Iaj2tqFWLX"
      }
    },
    {
      "cell_type": "code",
      "source": [
        "# Create model\n",
        "# Membangun model NCF menggunakan TensorFlow/Keras\n",
        "def create_ncf_model(num_users, num_items, latent_dim=8):\n",
        "  # Input layer untuk user\n",
        "  user_input = Input(shape=(1,))\n",
        "  user_embedding = Embedding(num_users, latent_dim)(user_input)\n",
        "  user_flat = Flatten()(user_embedding)\n",
        "  # Input layer untuk item (film)\n",
        "  item_input = Input(shape=(1,))\n",
        "  item_embedding = Embedding(num_items, latent_dim)(item_input)\n",
        "  item_flat = Flatten()(item_embedding)\n",
        "  # Concatenate user dan item embeddings\n",
        "  concat = Concatenate()([user_flat, item_flat])\n",
        "  # Fully connected layer\n",
        "  hidden = Dense(64, activation='relu')(concat)\n",
        "  output = Dense(1)(hidden)\n",
        "  # Compile model\n",
        "  model = Model(inputs=[user_input, item_input], outputs=output)\n",
        "  model.compile(loss='mean_squared_error', optimizer='adam')\n",
        "  return model\n"
      ],
      "metadata": {
        "id": "Ax4aEUvLZlTs"
      },
      "execution_count": 6,
      "outputs": []
    },
    {
      "cell_type": "code",
      "source": [
        "# Train model\n",
        "# Melatih model menggunakan data latih\n",
        "model = create_ncf_model(num_users, num_items)\n",
        "model.fit([train_user, train_item], train_ratings, batch_size=64, epochs=10,\n",
        "validation_data=([test_user, test_item], test_ratings))"
      ],
      "metadata": {
        "colab": {
          "base_uri": "https://localhost:8080/"
        },
        "id": "1dbPUPqSedl3",
        "outputId": "2763ba14-59a3-4188-e564-02d061b4d64c"
      },
      "execution_count": 7,
      "outputs": [
        {
          "output_type": "stream",
          "name": "stdout",
          "text": [
            "Epoch 1/10\n",
            "1261/1261 [==============================] - 5s 3ms/step - loss: 1.6172 - val_loss: 0.7877\n",
            "Epoch 2/10\n",
            "1261/1261 [==============================] - 4s 3ms/step - loss: 0.7166 - val_loss: 0.7803\n",
            "Epoch 3/10\n",
            "1261/1261 [==============================] - 5s 4ms/step - loss: 0.6817 - val_loss: 0.7780\n",
            "Epoch 4/10\n",
            "1261/1261 [==============================] - 4s 3ms/step - loss: 0.6581 - val_loss: 0.7600\n",
            "Epoch 5/10\n",
            "1261/1261 [==============================] - 4s 3ms/step - loss: 0.6411 - val_loss: 0.7546\n",
            "Epoch 6/10\n",
            "1261/1261 [==============================] - 5s 4ms/step - loss: 0.6282 - val_loss: 0.7576\n",
            "Epoch 7/10\n",
            "1261/1261 [==============================] - 3s 3ms/step - loss: 0.6161 - val_loss: 0.7576\n",
            "Epoch 8/10\n",
            "1261/1261 [==============================] - 4s 3ms/step - loss: 0.6035 - val_loss: 0.7579\n",
            "Epoch 9/10\n",
            "1261/1261 [==============================] - 4s 3ms/step - loss: 0.5912 - val_loss: 0.7585\n",
            "Epoch 10/10\n",
            "1261/1261 [==============================] - 5s 4ms/step - loss: 0.5780 - val_loss: 0.7639\n"
          ]
        },
        {
          "output_type": "execute_result",
          "data": {
            "text/plain": [
              "<keras.src.callbacks.History at 0x7d27146290f0>"
            ]
          },
          "metadata": {},
          "execution_count": 7
        }
      ]
    },
    {
      "cell_type": "code",
      "source": [
        "# Evaluate model\n",
        "# Evaluasi model menggunakan data uji\n",
        "test_loss = model.evaluate([test_user, test_item], test_ratings)\n",
        "print(f\"Test Loss: {test_loss}\")"
      ],
      "metadata": {
        "colab": {
          "base_uri": "https://localhost:8080/"
        },
        "id": "l2lLJIapfdr9",
        "outputId": "ceed7e52-57ab-4cc2-9d25-16494d66ca2a"
      },
      "execution_count": 8,
      "outputs": [
        {
          "output_type": "stream",
          "name": "stdout",
          "text": [
            "631/631 [==============================] - 1s 2ms/step - loss: 0.7639\n",
            "Test Loss: 0.7639102935791016\n"
          ]
        }
      ]
    },
    {
      "cell_type": "code",
      "source": [
        "# Make recommendations\n",
        "# Menggunakan model untuk membuat rekomendasi untuk pengguna tertentu\n",
        "def movies_not_rated_by_user(user_id):\n",
        "    user_rated_movies = set(ratings[ratings['user'] == user_mapping[user_id]]['item'])\n",
        "    all_movies = set(range(num_items))\n",
        "    not_rated_movies = all_movies - user_rated_movies\n",
        "    return list(not_rated_movies)\n",
        "\n",
        "def get_movie_titles(movie_ids):\n",
        "    movie_titles = movies[movies['movieId'].isin(movie_ids)]['title'].tolist()\n",
        "    return movie_titles\n",
        "\n",
        "user_id = 123\n",
        "user_movies = movies_not_rated_by_user(user_id)\n",
        "user_input = np.array([user_id] * len(user_movies))\n",
        "user_movies_input = np.array(user_movies)\n",
        "predictions = model.predict([user_input, user_movies_input]).flatten()\n",
        "recommended_movie_indices = np.argsort(predictions)[::-1][:10]\n",
        "recommended_movie_ids = [user_movies[idx] for idx in recommended_movie_indices]"
      ],
      "metadata": {
        "colab": {
          "base_uri": "https://localhost:8080/"
        },
        "id": "j8yo9UzfgUVP",
        "outputId": "78cf7861-e05f-4d4c-9d62-c340eb327a56"
      },
      "execution_count": 12,
      "outputs": [
        {
          "output_type": "stream",
          "name": "stdout",
          "text": [
            "303/303 [==============================] - 1s 1ms/step\n"
          ]
        }
      ]
    },
    {
      "cell_type": "code",
      "source": [
        "# Display recommended movies to the user\n",
        "recommended_movies = get_movie_titles(recommended_movie_ids)\n",
        "print(\"Recommended movies for user\", user_id, \":\", recommended_movies)"
      ],
      "metadata": {
        "colab": {
          "base_uri": "https://localhost:8080/"
        },
        "id": "9rCvpnRpgh9v",
        "outputId": "4192e3c8-ff74-4d87-a5c7-88bac7ad1f73"
      },
      "execution_count": 13,
      "outputs": [
        {
          "output_type": "stream",
          "name": "stdout",
          "text": [
            "Recommended movies for user 123 : [\"Logan's Run (1976)\", 'American Werewolf in Paris, An (1997)', 'Sweet Sixteen (2002)']\n"
          ]
        }
      ]
    }
  ]
}